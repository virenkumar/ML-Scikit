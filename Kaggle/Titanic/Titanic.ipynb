{
 "cells": [
  {
   "cell_type": "markdown",
   "id": "222b4664",
   "metadata": {},
   "source": [
    "Kaggle Titanic Project"
   ]
  },
  {
   "cell_type": "code",
   "execution_count": 1,
   "id": "6991fc7d",
   "metadata": {},
   "outputs": [],
   "source": [
    "DATASET_PATH=\"datasets/train.csv\""
   ]
  },
  {
   "cell_type": "code",
   "execution_count": 2,
   "id": "2201bf8f",
   "metadata": {},
   "outputs": [],
   "source": [
    "import pandas as pd"
   ]
  },
  {
   "cell_type": "code",
   "execution_count": 3,
   "id": "1528e86b",
   "metadata": {},
   "outputs": [],
   "source": [
    "def load_survival_data(dataset_path=DATASET_PATH):\n",
    "    ld_data = pd.read_csv(dataset_path)\n",
    "    return ld_data"
   ]
  },
  {
   "cell_type": "code",
   "execution_count": 4,
   "id": "8e0f04b9",
   "metadata": {},
   "outputs": [
    {
     "data": {
      "text/html": [
       "<div>\n",
       "<style scoped>\n",
       "    .dataframe tbody tr th:only-of-type {\n",
       "        vertical-align: middle;\n",
       "    }\n",
       "\n",
       "    .dataframe tbody tr th {\n",
       "        vertical-align: top;\n",
       "    }\n",
       "\n",
       "    .dataframe thead th {\n",
       "        text-align: right;\n",
       "    }\n",
       "</style>\n",
       "<table border=\"1\" class=\"dataframe\">\n",
       "  <thead>\n",
       "    <tr style=\"text-align: right;\">\n",
       "      <th></th>\n",
       "      <th>PassengerId</th>\n",
       "      <th>Survived</th>\n",
       "      <th>Pclass</th>\n",
       "      <th>Name</th>\n",
       "      <th>Sex</th>\n",
       "      <th>Age</th>\n",
       "      <th>SibSp</th>\n",
       "      <th>Parch</th>\n",
       "      <th>Ticket</th>\n",
       "      <th>Fare</th>\n",
       "      <th>Cabin</th>\n",
       "      <th>Embarked</th>\n",
       "    </tr>\n",
       "  </thead>\n",
       "  <tbody>\n",
       "    <tr>\n",
       "      <th>0</th>\n",
       "      <td>1</td>\n",
       "      <td>0</td>\n",
       "      <td>3</td>\n",
       "      <td>Braund, Mr. Owen Harris</td>\n",
       "      <td>male</td>\n",
       "      <td>22.0</td>\n",
       "      <td>1</td>\n",
       "      <td>0</td>\n",
       "      <td>A/5 21171</td>\n",
       "      <td>7.2500</td>\n",
       "      <td>NaN</td>\n",
       "      <td>S</td>\n",
       "    </tr>\n",
       "    <tr>\n",
       "      <th>1</th>\n",
       "      <td>2</td>\n",
       "      <td>1</td>\n",
       "      <td>1</td>\n",
       "      <td>Cumings, Mrs. John Bradley (Florence Briggs Th...</td>\n",
       "      <td>female</td>\n",
       "      <td>38.0</td>\n",
       "      <td>1</td>\n",
       "      <td>0</td>\n",
       "      <td>PC 17599</td>\n",
       "      <td>71.2833</td>\n",
       "      <td>C85</td>\n",
       "      <td>C</td>\n",
       "    </tr>\n",
       "    <tr>\n",
       "      <th>2</th>\n",
       "      <td>3</td>\n",
       "      <td>1</td>\n",
       "      <td>3</td>\n",
       "      <td>Heikkinen, Miss. Laina</td>\n",
       "      <td>female</td>\n",
       "      <td>26.0</td>\n",
       "      <td>0</td>\n",
       "      <td>0</td>\n",
       "      <td>STON/O2. 3101282</td>\n",
       "      <td>7.9250</td>\n",
       "      <td>NaN</td>\n",
       "      <td>S</td>\n",
       "    </tr>\n",
       "    <tr>\n",
       "      <th>3</th>\n",
       "      <td>4</td>\n",
       "      <td>1</td>\n",
       "      <td>1</td>\n",
       "      <td>Futrelle, Mrs. Jacques Heath (Lily May Peel)</td>\n",
       "      <td>female</td>\n",
       "      <td>35.0</td>\n",
       "      <td>1</td>\n",
       "      <td>0</td>\n",
       "      <td>113803</td>\n",
       "      <td>53.1000</td>\n",
       "      <td>C123</td>\n",
       "      <td>S</td>\n",
       "    </tr>\n",
       "    <tr>\n",
       "      <th>4</th>\n",
       "      <td>5</td>\n",
       "      <td>0</td>\n",
       "      <td>3</td>\n",
       "      <td>Allen, Mr. William Henry</td>\n",
       "      <td>male</td>\n",
       "      <td>35.0</td>\n",
       "      <td>0</td>\n",
       "      <td>0</td>\n",
       "      <td>373450</td>\n",
       "      <td>8.0500</td>\n",
       "      <td>NaN</td>\n",
       "      <td>S</td>\n",
       "    </tr>\n",
       "  </tbody>\n",
       "</table>\n",
       "</div>"
      ],
      "text/plain": [
       "   PassengerId  Survived  Pclass  \\\n",
       "0            1         0       3   \n",
       "1            2         1       1   \n",
       "2            3         1       3   \n",
       "3            4         1       1   \n",
       "4            5         0       3   \n",
       "\n",
       "                                                Name     Sex   Age  SibSp  \\\n",
       "0                            Braund, Mr. Owen Harris    male  22.0      1   \n",
       "1  Cumings, Mrs. John Bradley (Florence Briggs Th...  female  38.0      1   \n",
       "2                             Heikkinen, Miss. Laina  female  26.0      0   \n",
       "3       Futrelle, Mrs. Jacques Heath (Lily May Peel)  female  35.0      1   \n",
       "4                           Allen, Mr. William Henry    male  35.0      0   \n",
       "\n",
       "   Parch            Ticket     Fare Cabin Embarked  \n",
       "0      0         A/5 21171   7.2500   NaN        S  \n",
       "1      0          PC 17599  71.2833   C85        C  \n",
       "2      0  STON/O2. 3101282   7.9250   NaN        S  \n",
       "3      0            113803  53.1000  C123        S  \n",
       "4      0            373450   8.0500   NaN        S  "
      ]
     },
     "execution_count": 4,
     "metadata": {},
     "output_type": "execute_result"
    }
   ],
   "source": [
    "train_data = load_survival_data()\n",
    "train_data.head()"
   ]
  },
  {
   "cell_type": "code",
   "execution_count": 5,
   "id": "49670178",
   "metadata": {},
   "outputs": [
    {
     "data": {
      "text/html": [
       "<div>\n",
       "<style scoped>\n",
       "    .dataframe tbody tr th:only-of-type {\n",
       "        vertical-align: middle;\n",
       "    }\n",
       "\n",
       "    .dataframe tbody tr th {\n",
       "        vertical-align: top;\n",
       "    }\n",
       "\n",
       "    .dataframe thead th {\n",
       "        text-align: right;\n",
       "    }\n",
       "</style>\n",
       "<table border=\"1\" class=\"dataframe\">\n",
       "  <thead>\n",
       "    <tr style=\"text-align: right;\">\n",
       "      <th></th>\n",
       "      <th>PassengerId</th>\n",
       "      <th>Survived</th>\n",
       "      <th>Pclass</th>\n",
       "      <th>Age</th>\n",
       "      <th>SibSp</th>\n",
       "      <th>Parch</th>\n",
       "      <th>Fare</th>\n",
       "    </tr>\n",
       "  </thead>\n",
       "  <tbody>\n",
       "    <tr>\n",
       "      <th>count</th>\n",
       "      <td>891.000000</td>\n",
       "      <td>891.000000</td>\n",
       "      <td>891.000000</td>\n",
       "      <td>714.000000</td>\n",
       "      <td>891.000000</td>\n",
       "      <td>891.000000</td>\n",
       "      <td>891.000000</td>\n",
       "    </tr>\n",
       "    <tr>\n",
       "      <th>mean</th>\n",
       "      <td>446.000000</td>\n",
       "      <td>0.383838</td>\n",
       "      <td>2.308642</td>\n",
       "      <td>29.699118</td>\n",
       "      <td>0.523008</td>\n",
       "      <td>0.381594</td>\n",
       "      <td>32.204208</td>\n",
       "    </tr>\n",
       "    <tr>\n",
       "      <th>std</th>\n",
       "      <td>257.353842</td>\n",
       "      <td>0.486592</td>\n",
       "      <td>0.836071</td>\n",
       "      <td>14.526497</td>\n",
       "      <td>1.102743</td>\n",
       "      <td>0.806057</td>\n",
       "      <td>49.693429</td>\n",
       "    </tr>\n",
       "    <tr>\n",
       "      <th>min</th>\n",
       "      <td>1.000000</td>\n",
       "      <td>0.000000</td>\n",
       "      <td>1.000000</td>\n",
       "      <td>0.420000</td>\n",
       "      <td>0.000000</td>\n",
       "      <td>0.000000</td>\n",
       "      <td>0.000000</td>\n",
       "    </tr>\n",
       "    <tr>\n",
       "      <th>25%</th>\n",
       "      <td>223.500000</td>\n",
       "      <td>0.000000</td>\n",
       "      <td>2.000000</td>\n",
       "      <td>20.125000</td>\n",
       "      <td>0.000000</td>\n",
       "      <td>0.000000</td>\n",
       "      <td>7.910400</td>\n",
       "    </tr>\n",
       "    <tr>\n",
       "      <th>50%</th>\n",
       "      <td>446.000000</td>\n",
       "      <td>0.000000</td>\n",
       "      <td>3.000000</td>\n",
       "      <td>28.000000</td>\n",
       "      <td>0.000000</td>\n",
       "      <td>0.000000</td>\n",
       "      <td>14.454200</td>\n",
       "    </tr>\n",
       "    <tr>\n",
       "      <th>75%</th>\n",
       "      <td>668.500000</td>\n",
       "      <td>1.000000</td>\n",
       "      <td>3.000000</td>\n",
       "      <td>38.000000</td>\n",
       "      <td>1.000000</td>\n",
       "      <td>0.000000</td>\n",
       "      <td>31.000000</td>\n",
       "    </tr>\n",
       "    <tr>\n",
       "      <th>max</th>\n",
       "      <td>891.000000</td>\n",
       "      <td>1.000000</td>\n",
       "      <td>3.000000</td>\n",
       "      <td>80.000000</td>\n",
       "      <td>8.000000</td>\n",
       "      <td>6.000000</td>\n",
       "      <td>512.329200</td>\n",
       "    </tr>\n",
       "  </tbody>\n",
       "</table>\n",
       "</div>"
      ],
      "text/plain": [
       "       PassengerId    Survived      Pclass         Age       SibSp  \\\n",
       "count   891.000000  891.000000  891.000000  714.000000  891.000000   \n",
       "mean    446.000000    0.383838    2.308642   29.699118    0.523008   \n",
       "std     257.353842    0.486592    0.836071   14.526497    1.102743   \n",
       "min       1.000000    0.000000    1.000000    0.420000    0.000000   \n",
       "25%     223.500000    0.000000    2.000000   20.125000    0.000000   \n",
       "50%     446.000000    0.000000    3.000000   28.000000    0.000000   \n",
       "75%     668.500000    1.000000    3.000000   38.000000    1.000000   \n",
       "max     891.000000    1.000000    3.000000   80.000000    8.000000   \n",
       "\n",
       "            Parch        Fare  \n",
       "count  891.000000  891.000000  \n",
       "mean     0.381594   32.204208  \n",
       "std      0.806057   49.693429  \n",
       "min      0.000000    0.000000  \n",
       "25%      0.000000    7.910400  \n",
       "50%      0.000000   14.454200  \n",
       "75%      0.000000   31.000000  \n",
       "max      6.000000  512.329200  "
      ]
     },
     "execution_count": 5,
     "metadata": {},
     "output_type": "execute_result"
    }
   ],
   "source": [
    "train_data.describe()"
   ]
  },
  {
   "cell_type": "code",
   "execution_count": 6,
   "id": "4ae2f7ad",
   "metadata": {},
   "outputs": [
    {
     "name": "stdout",
     "output_type": "stream",
     "text": [
      "<class 'pandas.core.frame.DataFrame'>\n",
      "RangeIndex: 891 entries, 0 to 890\n",
      "Data columns (total 12 columns):\n",
      " #   Column       Non-Null Count  Dtype  \n",
      "---  ------       --------------  -----  \n",
      " 0   PassengerId  891 non-null    int64  \n",
      " 1   Survived     891 non-null    int64  \n",
      " 2   Pclass       891 non-null    int64  \n",
      " 3   Name         891 non-null    object \n",
      " 4   Sex          891 non-null    object \n",
      " 5   Age          714 non-null    float64\n",
      " 6   SibSp        891 non-null    int64  \n",
      " 7   Parch        891 non-null    int64  \n",
      " 8   Ticket       891 non-null    object \n",
      " 9   Fare         891 non-null    float64\n",
      " 10  Cabin        204 non-null    object \n",
      " 11  Embarked     889 non-null    object \n",
      "dtypes: float64(2), int64(5), object(5)\n",
      "memory usage: 83.7+ KB\n"
     ]
    }
   ],
   "source": [
    "train_data.info()"
   ]
  },
  {
   "cell_type": "code",
   "execution_count": 7,
   "id": "a5826253",
   "metadata": {},
   "outputs": [
    {
     "data": {
      "image/png": "[encoded data removed]",
      "text/plain": [
       "<Figure size 1440x1080 with 9 Axes>"
      ]
     },
     "metadata": {
      "needs_background": "light"
     },
     "output_type": "display_data"
    }
   ],
   "source": [
    "%matplotlib inline\n",
    "import matplotlib.pyplot as plt\n",
    "train_data.hist(bins=50,figsize=(20,15))\n",
    "plt.show()"
   ]
  },
  {
   "cell_type": "markdown",
   "id": "6bed38bb",
   "metadata": {},
   "source": [
    "Visualize the Data"
   ]
  },
  {
   "cell_type": "code",
   "execution_count": 8,
   "id": "57b0310a",
   "metadata": {},
   "outputs": [],
   "source": [
    "survival_df = train_data.copy()"
   ]
  },
  {
   "cell_type": "code",
   "execution_count": 9,
   "id": "c0584f07",
   "metadata": {},
   "outputs": [
    {
     "data": {
      "text/html": [
       "<div>\n",
       "<style scoped>\n",
       "    .dataframe tbody tr th:only-of-type {\n",
       "        vertical-align: middle;\n",
       "    }\n",
       "\n",
       "    .dataframe tbody tr th {\n",
       "        vertical-align: top;\n",
       "    }\n",
       "\n",
       "    .dataframe thead th {\n",
       "        text-align: right;\n",
       "    }\n",
       "</style>\n",
       "<table border=\"1\" class=\"dataframe\">\n",
       "  <thead>\n",
       "    <tr style=\"text-align: right;\">\n",
       "      <th></th>\n",
       "      <th>PassengerId</th>\n",
       "      <th>Survived</th>\n",
       "      <th>Pclass</th>\n",
       "      <th>Name</th>\n",
       "      <th>Sex</th>\n",
       "      <th>Age</th>\n",
       "      <th>SibSp</th>\n",
       "      <th>Parch</th>\n",
       "      <th>Ticket</th>\n",
       "      <th>Fare</th>\n",
       "      <th>Cabin</th>\n",
       "      <th>Embarked</th>\n",
       "    </tr>\n",
       "  </thead>\n",
       "  <tbody>\n",
       "    <tr>\n",
       "      <th>0</th>\n",
       "      <td>1</td>\n",
       "      <td>0</td>\n",
       "      <td>3</td>\n",
       "      <td>Braund, Mr. Owen Harris</td>\n",
       "      <td>male</td>\n",
       "      <td>22.0</td>\n",
       "      <td>1</td>\n",
       "      <td>0</td>\n",
       "      <td>A/5 21171</td>\n",
       "      <td>7.2500</td>\n",
       "      <td>NaN</td>\n",
       "      <td>S</td>\n",
       "    </tr>\n",
       "    <tr>\n",
       "      <th>1</th>\n",
       "      <td>2</td>\n",
       "      <td>1</td>\n",
       "      <td>1</td>\n",
       "      <td>Cumings, Mrs. John Bradley (Florence Briggs Th...</td>\n",
       "      <td>female</td>\n",
       "      <td>38.0</td>\n",
       "      <td>1</td>\n",
       "      <td>0</td>\n",
       "      <td>PC 17599</td>\n",
       "      <td>71.2833</td>\n",
       "      <td>C85</td>\n",
       "      <td>C</td>\n",
       "    </tr>\n",
       "    <tr>\n",
       "      <th>2</th>\n",
       "      <td>3</td>\n",
       "      <td>1</td>\n",
       "      <td>3</td>\n",
       "      <td>Heikkinen, Miss. Laina</td>\n",
       "      <td>female</td>\n",
       "      <td>26.0</td>\n",
       "      <td>0</td>\n",
       "      <td>0</td>\n",
       "      <td>STON/O2. 3101282</td>\n",
       "      <td>7.9250</td>\n",
       "      <td>NaN</td>\n",
       "      <td>S</td>\n",
       "    </tr>\n",
       "    <tr>\n",
       "      <th>3</th>\n",
       "      <td>4</td>\n",
       "      <td>1</td>\n",
       "      <td>1</td>\n",
       "      <td>Futrelle, Mrs. Jacques Heath (Lily May Peel)</td>\n",
       "      <td>female</td>\n",
       "      <td>35.0</td>\n",
       "      <td>1</td>\n",
       "      <td>0</td>\n",
       "      <td>113803</td>\n",
       "      <td>53.1000</td>\n",
       "      <td>C123</td>\n",
       "      <td>S</td>\n",
       "    </tr>\n",
       "    <tr>\n",
       "      <th>4</th>\n",
       "      <td>5</td>\n",
       "      <td>0</td>\n",
       "      <td>3</td>\n",
       "      <td>Allen, Mr. William Henry</td>\n",
       "      <td>male</td>\n",
       "      <td>35.0</td>\n",
       "      <td>0</td>\n",
       "      <td>0</td>\n",
       "      <td>373450</td>\n",
       "      <td>8.0500</td>\n",
       "      <td>NaN</td>\n",
       "      <td>S</td>\n",
       "    </tr>\n",
       "  </tbody>\n",
       "</table>\n",
       "</div>"
      ],
      "text/plain": [
       "   PassengerId  Survived  Pclass  \\\n",
       "0            1         0       3   \n",
       "1            2         1       1   \n",
       "2            3         1       3   \n",
       "3            4         1       1   \n",
       "4            5         0       3   \n",
       "\n",
       "                                                Name     Sex   Age  SibSp  \\\n",
       "0                            Braund, Mr. Owen Harris    male  22.0      1   \n",
       "1  Cumings, Mrs. John Bradley (Florence Briggs Th...  female  38.0      1   \n",
       "2                             Heikkinen, Miss. Laina  female  26.0      0   \n",
       "3       Futrelle, Mrs. Jacques Heath (Lily May Peel)  female  35.0      1   \n",
       "4                           Allen, Mr. William Henry    male  35.0      0   \n",
       "\n",
       "   Parch            Ticket     Fare Cabin Embarked  \n",
       "0      0         A/5 21171   7.2500   NaN        S  \n",
       "1      0          PC 17599  71.2833   C85        C  \n",
       "2      0  STON/O2. 3101282   7.9250   NaN        S  \n",
       "3      0            113803  53.1000  C123        S  \n",
       "4      0            373450   8.0500   NaN        S  "
      ]
     },
     "execution_count": 9,
     "metadata": {},
     "output_type": "execute_result"
    }
   ],
   "source": [
    "survival_df.head()"
   ]
  },
  {
   "cell_type": "code",
   "execution_count": 10,
   "id": "3aaa122b",
   "metadata": {},
   "outputs": [
    {
     "data": {
      "text/plain": [
       "<AxesSubplot:>"
      ]
     },
     "execution_count": 10,
     "metadata": {},
     "output_type": "execute_result"
    },
    {
     "data": {
      "image/png": "[encoded data removed]",
      "text/plain": [
       "<Figure size 432x288 with 1 Axes>"
      ]
     },
     "metadata": {
      "needs_background": "light"
     },
     "output_type": "display_data"
    }
   ],
   "source": [
    "survival_df[\"Pclass\"].hist()"
   ]
  },
  {
   "cell_type": "code",
   "execution_count": 11,
   "id": "655b790e",
   "metadata": {},
   "outputs": [
    {
     "data": {
      "text/plain": [
       "<AxesSubplot:>"
      ]
     },
     "execution_count": 11,
     "metadata": {},
     "output_type": "execute_result"
    },
    {
     "data": {
      "image/png": "[encoded data removed]",
      "text/plain": [
       "<Figure size 432x288 with 1 Axes>"
      ]
     },
     "metadata": {
      "needs_background": "light"
     },
     "output_type": "display_data"
    }
   ],
   "source": [
    "survival_df[\"Sex\"].hist()"
   ]
  },
  {
   "cell_type": "code",
   "execution_count": 12,
   "id": "cb811230",
   "metadata": {},
   "outputs": [
    {
     "data": {
      "text/plain": [
       "<AxesSubplot:>"
      ]
     },
     "execution_count": 12,
     "metadata": {},
     "output_type": "execute_result"
    },
    {
     "data": {
      "image/png": "[encoded data removed]",
      "text/plain": [
       "<Figure size 432x288 with 1 Axes>"
      ]
     },
     "metadata": {
      "needs_background": "light"
     },
     "output_type": "display_data"
    }
   ],
   "source": [
    "survival_df[\"Survived\"].hist()"
   ]
  },
  {
   "cell_type": "code",
   "execution_count": 13,
   "id": "56b4afda",
   "metadata": {},
   "outputs": [],
   "source": [
    "corr_matrix = survival_df.corr()"
   ]
  },
  {
   "cell_type": "code",
   "execution_count": 14,
   "id": "b4e1e3d6",
   "metadata": {},
   "outputs": [
    {
     "data": {
      "text/plain": [
       "Survived       1.000000\n",
       "Fare           0.257307\n",
       "Parch          0.081629\n",
       "PassengerId   -0.005007\n",
       "SibSp         -0.035322\n",
       "Age           -0.077221\n",
       "Pclass        -0.338481\n",
       "Name: Survived, dtype: float64"
      ]
     },
     "execution_count": 14,
     "metadata": {},
     "output_type": "execute_result"
    }
   ],
   "source": [
    "corr_matrix[\"Survived\"].sort_values(ascending=False)"
   ]
  },
  {
   "cell_type": "code",
   "execution_count": 15,
   "id": "4770c83c",
   "metadata": {},
   "outputs": [
    {
     "data": {
      "text/plain": [
       "array([[<AxesSubplot:xlabel='Survived', ylabel='Survived'>,\n",
       "        <AxesSubplot:xlabel='Fare', ylabel='Survived'>,\n",
       "        <AxesSubplot:xlabel='Pclass', ylabel='Survived'>,\n",
       "        <AxesSubplot:xlabel='Age', ylabel='Survived'>,\n",
       "        <AxesSubplot:xlabel='Parch', ylabel='Survived'>,\n",
       "        <AxesSubplot:xlabel='SibSp', ylabel='Survived'>],\n",
       "       [<AxesSubplot:xlabel='Survived', ylabel='Fare'>,\n",
       "        <AxesSubplot:xlabel='Fare', ylabel='Fare'>,\n",
       "        <AxesSubplot:xlabel='Pclass', ylabel='Fare'>,\n",
       "        <AxesSubplot:xlabel='Age', ylabel='Fare'>,\n",
       "        <AxesSubplot:xlabel='Parch', ylabel='Fare'>,\n",
       "        <AxesSubplot:xlabel='SibSp', ylabel='Fare'>],\n",
       "       [<AxesSubplot:xlabel='Survived', ylabel='Pclass'>,\n",
       "        <AxesSubplot:xlabel='Fare', ylabel='Pclass'>,\n",
       "        <AxesSubplot:xlabel='Pclass', ylabel='Pclass'>,\n",
       "        <AxesSubplot:xlabel='Age', ylabel='Pclass'>,\n",
       "        <AxesSubplot:xlabel='Parch', ylabel='Pclass'>,\n",
       "        <AxesSubplot:xlabel='SibSp', ylabel='Pclass'>],\n",
       "       [<AxesSubplot:xlabel='Survived', ylabel='Age'>,\n",
       "        <AxesSubplot:xlabel='Fare', ylabel='Age'>,\n",
       "        <AxesSubplot:xlabel='Pclass', ylabel='Age'>,\n",
       "        <AxesSubplot:xlabel='Age', ylabel='Age'>,\n",
       "        <AxesSubplot:xlabel='Parch', ylabel='Age'>,\n",
       "        <AxesSubplot:xlabel='SibSp', ylabel='Age'>],\n",
       "       [<AxesSubplot:xlabel='Survived', ylabel='Parch'>,\n",
       "        <AxesSubplot:xlabel='Fare', ylabel='Parch'>,\n",
       "        <AxesSubplot:xlabel='Pclass', ylabel='Parch'>,\n",
       "        <AxesSubplot:xlabel='Age', ylabel='Parch'>,\n",
       "        <AxesSubplot:xlabel='Parch', ylabel='Parch'>,\n",
       "        <AxesSubplot:xlabel='SibSp', ylabel='Parch'>],\n",
       "       [<AxesSubplot:xlabel='Survived', ylabel='SibSp'>,\n",
       "        <AxesSubplot:xlabel='Fare', ylabel='SibSp'>,\n",
       "        <AxesSubplot:xlabel='Pclass', ylabel='SibSp'>,\n",
       "        <AxesSubplot:xlabel='Age', ylabel='SibSp'>,\n",
       "        <AxesSubplot:xlabel='Parch', ylabel='SibSp'>,\n",
       "        <AxesSubplot:xlabel='SibSp', ylabel='SibSp'>]], dtype=object)"
      ]
     },
     "execution_count": 15,
     "metadata": {},
     "output_type": "execute_result"
    },
    {
     "data": {
      "image/png": "[encoded data removed]",
      "text/plain": [
       "<Figure size 864x576 with 36 Axes>"
      ]
     },
     "metadata": {
      "needs_background": "light"
     },
     "output_type": "display_data"
    }
   ],
   "source": [
    "from pandas.plotting import scatter_matrix\n",
    "%matplotlib inline\n",
    "attributes = [\"Survived\", \"Fare\", \"Pclass\", \"Age\", \"Parch\",\n",
    "              \"SibSp\"]\n",
    "scatter_matrix(survival_df[attributes], figsize=(12, 8))"
   ]
  },
  {
   "cell_type": "markdown",
   "id": "a6f2569e",
   "metadata": {},
   "source": [
    "Prepare the Data"
   ]
  },
  {
   "cell_type": "code",
   "execution_count": 16,
   "id": "a17d5cb4",
   "metadata": {},
   "outputs": [
    {
     "data": {
      "text/html": [
       "<div>\n",
       "<style scoped>\n",
       "    .dataframe tbody tr th:only-of-type {\n",
       "        vertical-align: middle;\n",
       "    }\n",
       "\n",
       "    .dataframe tbody tr th {\n",
       "        vertical-align: top;\n",
       "    }\n",
       "\n",
       "    .dataframe thead th {\n",
       "        text-align: right;\n",
       "    }\n",
       "</style>\n",
       "<table border=\"1\" class=\"dataframe\">\n",
       "  <thead>\n",
       "    <tr style=\"text-align: right;\">\n",
       "      <th></th>\n",
       "      <th>PassengerId</th>\n",
       "      <th>Pclass</th>\n",
       "      <th>Name</th>\n",
       "      <th>Sex</th>\n",
       "      <th>Age</th>\n",
       "      <th>SibSp</th>\n",
       "      <th>Parch</th>\n",
       "      <th>Ticket</th>\n",
       "      <th>Fare</th>\n",
       "      <th>Cabin</th>\n",
       "      <th>Embarked</th>\n",
       "    </tr>\n",
       "  </thead>\n",
       "  <tbody>\n",
       "    <tr>\n",
       "      <th>0</th>\n",
       "      <td>1</td>\n",
       "      <td>3</td>\n",
       "      <td>Braund, Mr. Owen Harris</td>\n",
       "      <td>male</td>\n",
       "      <td>22.0</td>\n",
       "      <td>1</td>\n",
       "      <td>0</td>\n",
       "      <td>A/5 21171</td>\n",
       "      <td>7.2500</td>\n",
       "      <td>NaN</td>\n",
       "      <td>S</td>\n",
       "    </tr>\n",
       "    <tr>\n",
       "      <th>1</th>\n",
       "      <td>2</td>\n",
       "      <td>1</td>\n",
       "      <td>Cumings, Mrs. John Bradley (Florence Briggs Th...</td>\n",
       "      <td>female</td>\n",
       "      <td>38.0</td>\n",
       "      <td>1</td>\n",
       "      <td>0</td>\n",
       "      <td>PC 17599</td>\n",
       "      <td>71.2833</td>\n",
       "      <td>C85</td>\n",
       "      <td>C</td>\n",
       "    </tr>\n",
       "    <tr>\n",
       "      <th>2</th>\n",
       "      <td>3</td>\n",
       "      <td>3</td>\n",
       "      <td>Heikkinen, Miss. Laina</td>\n",
       "      <td>female</td>\n",
       "      <td>26.0</td>\n",
       "      <td>0</td>\n",
       "      <td>0</td>\n",
       "      <td>STON/O2. 3101282</td>\n",
       "      <td>7.9250</td>\n",
       "      <td>NaN</td>\n",
       "      <td>S</td>\n",
       "    </tr>\n",
       "    <tr>\n",
       "      <th>3</th>\n",
       "      <td>4</td>\n",
       "      <td>1</td>\n",
       "      <td>Futrelle, Mrs. Jacques Heath (Lily May Peel)</td>\n",
       "      <td>female</td>\n",
       "      <td>35.0</td>\n",
       "      <td>1</td>\n",
       "      <td>0</td>\n",
       "      <td>113803</td>\n",
       "      <td>53.1000</td>\n",
       "      <td>C123</td>\n",
       "      <td>S</td>\n",
       "    </tr>\n",
       "    <tr>\n",
       "      <th>4</th>\n",
       "      <td>5</td>\n",
       "      <td>3</td>\n",
       "      <td>Allen, Mr. William Henry</td>\n",
       "      <td>male</td>\n",
       "      <td>35.0</td>\n",
       "      <td>0</td>\n",
       "      <td>0</td>\n",
       "      <td>373450</td>\n",
       "      <td>8.0500</td>\n",
       "      <td>NaN</td>\n",
       "      <td>S</td>\n",
       "    </tr>\n",
       "  </tbody>\n",
       "</table>\n",
       "</div>"
      ],
      "text/plain": [
       "   PassengerId  Pclass                                               Name  \\\n",
       "0            1       3                            Braund, Mr. Owen Harris   \n",
       "1            2       1  Cumings, Mrs. John Bradley (Florence Briggs Th...   \n",
       "2            3       3                             Heikkinen, Miss. Laina   \n",
       "3            4       1       Futrelle, Mrs. Jacques Heath (Lily May Peel)   \n",
       "4            5       3                           Allen, Mr. William Henry   \n",
       "\n",
       "      Sex   Age  SibSp  Parch            Ticket     Fare Cabin Embarked  \n",
       "0    male  22.0      1      0         A/5 21171   7.2500   NaN        S  \n",
       "1  female  38.0      1      0          PC 17599  71.2833   C85        C  \n",
       "2  female  26.0      0      0  STON/O2. 3101282   7.9250   NaN        S  \n",
       "3  female  35.0      1      0            113803  53.1000  C123        S  \n",
       "4    male  35.0      0      0            373450   8.0500   NaN        S  "
      ]
     },
     "execution_count": 16,
     "metadata": {},
     "output_type": "execute_result"
    }
   ],
   "source": [
    "survival_labels = survival_df[\"Survived\"].copy()\n",
    "survival_df = survival_df.drop(\"Survived\", axis=1) # drop labels for training set\n",
    "\n",
    "survival_df.head()"
   ]
  },
  {
   "cell_type": "code",
   "execution_count": 17,
   "id": "56694033",
   "metadata": {},
   "outputs": [
    {
     "data": {
      "text/html": [
       "<div>\n",
       "<style scoped>\n",
       "    .dataframe tbody tr th:only-of-type {\n",
       "        vertical-align: middle;\n",
       "    }\n",
       "\n",
       "    .dataframe tbody tr th {\n",
       "        vertical-align: top;\n",
       "    }\n",
       "\n",
       "    .dataframe thead th {\n",
       "        text-align: right;\n",
       "    }\n",
       "</style>\n",
       "<table border=\"1\" class=\"dataframe\">\n",
       "  <thead>\n",
       "    <tr style=\"text-align: right;\">\n",
       "      <th></th>\n",
       "      <th>PassengerId</th>\n",
       "      <th>Pclass</th>\n",
       "      <th>Name</th>\n",
       "      <th>Sex</th>\n",
       "      <th>Age</th>\n",
       "      <th>SibSp</th>\n",
       "      <th>Parch</th>\n",
       "      <th>Ticket</th>\n",
       "      <th>Fare</th>\n",
       "      <th>Cabin</th>\n",
       "      <th>Embarked</th>\n",
       "    </tr>\n",
       "  </thead>\n",
       "  <tbody>\n",
       "    <tr>\n",
       "      <th>0</th>\n",
       "      <td>1</td>\n",
       "      <td>3</td>\n",
       "      <td>Braund, Mr. Owen Harris</td>\n",
       "      <td>male</td>\n",
       "      <td>22.0</td>\n",
       "      <td>1</td>\n",
       "      <td>0</td>\n",
       "      <td>A/5 21171</td>\n",
       "      <td>7.2500</td>\n",
       "      <td>NaN</td>\n",
       "      <td>S</td>\n",
       "    </tr>\n",
       "    <tr>\n",
       "      <th>2</th>\n",
       "      <td>3</td>\n",
       "      <td>3</td>\n",
       "      <td>Heikkinen, Miss. Laina</td>\n",
       "      <td>female</td>\n",
       "      <td>26.0</td>\n",
       "      <td>0</td>\n",
       "      <td>0</td>\n",
       "      <td>STON/O2. 3101282</td>\n",
       "      <td>7.9250</td>\n",
       "      <td>NaN</td>\n",
       "      <td>S</td>\n",
       "    </tr>\n",
       "    <tr>\n",
       "      <th>4</th>\n",
       "      <td>5</td>\n",
       "      <td>3</td>\n",
       "      <td>Allen, Mr. William Henry</td>\n",
       "      <td>male</td>\n",
       "      <td>35.0</td>\n",
       "      <td>0</td>\n",
       "      <td>0</td>\n",
       "      <td>373450</td>\n",
       "      <td>8.0500</td>\n",
       "      <td>NaN</td>\n",
       "      <td>S</td>\n",
       "    </tr>\n",
       "    <tr>\n",
       "      <th>5</th>\n",
       "      <td>6</td>\n",
       "      <td>3</td>\n",
       "      <td>Moran, Mr. James</td>\n",
       "      <td>male</td>\n",
       "      <td>NaN</td>\n",
       "      <td>0</td>\n",
       "      <td>0</td>\n",
       "      <td>330877</td>\n",
       "      <td>8.4583</td>\n",
       "      <td>NaN</td>\n",
       "      <td>Q</td>\n",
       "    </tr>\n",
       "    <tr>\n",
       "      <th>7</th>\n",
       "      <td>8</td>\n",
       "      <td>3</td>\n",
       "      <td>Palsson, Master. Gosta Leonard</td>\n",
       "      <td>male</td>\n",
       "      <td>2.0</td>\n",
       "      <td>3</td>\n",
       "      <td>1</td>\n",
       "      <td>349909</td>\n",
       "      <td>21.0750</td>\n",
       "      <td>NaN</td>\n",
       "      <td>S</td>\n",
       "    </tr>\n",
       "  </tbody>\n",
       "</table>\n",
       "</div>"
      ],
      "text/plain": [
       "   PassengerId  Pclass                            Name     Sex   Age  SibSp  \\\n",
       "0            1       3         Braund, Mr. Owen Harris    male  22.0      1   \n",
       "2            3       3          Heikkinen, Miss. Laina  female  26.0      0   \n",
       "4            5       3        Allen, Mr. William Henry    male  35.0      0   \n",
       "5            6       3                Moran, Mr. James    male   NaN      0   \n",
       "7            8       3  Palsson, Master. Gosta Leonard    male   2.0      3   \n",
       "\n",
       "   Parch            Ticket     Fare Cabin Embarked  \n",
       "0      0         A/5 21171   7.2500   NaN        S  \n",
       "2      0  STON/O2. 3101282   7.9250   NaN        S  \n",
       "4      0            373450   8.0500   NaN        S  \n",
       "5      0            330877   8.4583   NaN        Q  \n",
       "7      1            349909  21.0750   NaN        S  "
      ]
     },
     "execution_count": 17,
     "metadata": {},
     "output_type": "execute_result"
    }
   ],
   "source": [
    "sample_incomplete_rows = survival_df[survival_df.isnull().any(axis=1)].head()\n",
    "sample_incomplete_rows"
   ]
  },
  {
   "cell_type": "markdown",
   "id": "900d0324",
   "metadata": {},
   "source": [
    "Options\n",
    "- Ignore Cabin column \n",
    "- Ignore Age\n",
    "- Add median age to missing entries\n",
    "- Add random value to 2 missing entries of Embarked"
   ]
  },
  {
   "cell_type": "code",
   "execution_count": 18,
   "id": "a028ba44",
   "metadata": {},
   "outputs": [
    {
     "data": {
      "text/html": [
       "<div>\n",
       "<style scoped>\n",
       "    .dataframe tbody tr th:only-of-type {\n",
       "        vertical-align: middle;\n",
       "    }\n",
       "\n",
       "    .dataframe tbody tr th {\n",
       "        vertical-align: top;\n",
       "    }\n",
       "\n",
       "    .dataframe thead th {\n",
       "        text-align: right;\n",
       "    }\n",
       "</style>\n",
       "<table border=\"1\" class=\"dataframe\">\n",
       "  <thead>\n",
       "    <tr style=\"text-align: right;\">\n",
       "      <th></th>\n",
       "      <th>PassengerId</th>\n",
       "      <th>Pclass</th>\n",
       "      <th>Name</th>\n",
       "      <th>Sex</th>\n",
       "      <th>Age</th>\n",
       "      <th>SibSp</th>\n",
       "      <th>Parch</th>\n",
       "      <th>Ticket</th>\n",
       "      <th>Fare</th>\n",
       "      <th>Embarked</th>\n",
       "    </tr>\n",
       "  </thead>\n",
       "  <tbody>\n",
       "    <tr>\n",
       "      <th>0</th>\n",
       "      <td>1</td>\n",
       "      <td>3</td>\n",
       "      <td>Braund, Mr. Owen Harris</td>\n",
       "      <td>male</td>\n",
       "      <td>22.0</td>\n",
       "      <td>1</td>\n",
       "      <td>0</td>\n",
       "      <td>A/5 21171</td>\n",
       "      <td>7.2500</td>\n",
       "      <td>S</td>\n",
       "    </tr>\n",
       "    <tr>\n",
       "      <th>2</th>\n",
       "      <td>3</td>\n",
       "      <td>3</td>\n",
       "      <td>Heikkinen, Miss. Laina</td>\n",
       "      <td>female</td>\n",
       "      <td>26.0</td>\n",
       "      <td>0</td>\n",
       "      <td>0</td>\n",
       "      <td>STON/O2. 3101282</td>\n",
       "      <td>7.9250</td>\n",
       "      <td>S</td>\n",
       "    </tr>\n",
       "    <tr>\n",
       "      <th>4</th>\n",
       "      <td>5</td>\n",
       "      <td>3</td>\n",
       "      <td>Allen, Mr. William Henry</td>\n",
       "      <td>male</td>\n",
       "      <td>35.0</td>\n",
       "      <td>0</td>\n",
       "      <td>0</td>\n",
       "      <td>373450</td>\n",
       "      <td>8.0500</td>\n",
       "      <td>S</td>\n",
       "    </tr>\n",
       "    <tr>\n",
       "      <th>5</th>\n",
       "      <td>6</td>\n",
       "      <td>3</td>\n",
       "      <td>Moran, Mr. James</td>\n",
       "      <td>male</td>\n",
       "      <td>NaN</td>\n",
       "      <td>0</td>\n",
       "      <td>0</td>\n",
       "      <td>330877</td>\n",
       "      <td>8.4583</td>\n",
       "      <td>Q</td>\n",
       "    </tr>\n",
       "    <tr>\n",
       "      <th>7</th>\n",
       "      <td>8</td>\n",
       "      <td>3</td>\n",
       "      <td>Palsson, Master. Gosta Leonard</td>\n",
       "      <td>male</td>\n",
       "      <td>2.0</td>\n",
       "      <td>3</td>\n",
       "      <td>1</td>\n",
       "      <td>349909</td>\n",
       "      <td>21.0750</td>\n",
       "      <td>S</td>\n",
       "    </tr>\n",
       "  </tbody>\n",
       "</table>\n",
       "</div>"
      ],
      "text/plain": [
       "   PassengerId  Pclass                            Name     Sex   Age  SibSp  \\\n",
       "0            1       3         Braund, Mr. Owen Harris    male  22.0      1   \n",
       "2            3       3          Heikkinen, Miss. Laina  female  26.0      0   \n",
       "4            5       3        Allen, Mr. William Henry    male  35.0      0   \n",
       "5            6       3                Moran, Mr. James    male   NaN      0   \n",
       "7            8       3  Palsson, Master. Gosta Leonard    male   2.0      3   \n",
       "\n",
       "   Parch            Ticket     Fare Embarked  \n",
       "0      0         A/5 21171   7.2500        S  \n",
       "2      0  STON/O2. 3101282   7.9250        S  \n",
       "4      0            373450   8.0500        S  \n",
       "5      0            330877   8.4583        Q  \n",
       "7      1            349909  21.0750        S  "
      ]
     },
     "execution_count": 18,
     "metadata": {},
     "output_type": "execute_result"
    }
   ],
   "source": [
    "#Option 1\n",
    "sample_incomplete_rows.drop(\"Cabin\", axis=1)"
   ]
  },
  {
   "cell_type": "code",
   "execution_count": 19,
   "id": "edb92b28",
   "metadata": {},
   "outputs": [
    {
     "data": {
      "text/html": [
       "<div>\n",
       "<style scoped>\n",
       "    .dataframe tbody tr th:only-of-type {\n",
       "        vertical-align: middle;\n",
       "    }\n",
       "\n",
       "    .dataframe tbody tr th {\n",
       "        vertical-align: top;\n",
       "    }\n",
       "\n",
       "    .dataframe thead th {\n",
       "        text-align: right;\n",
       "    }\n",
       "</style>\n",
       "<table border=\"1\" class=\"dataframe\">\n",
       "  <thead>\n",
       "    <tr style=\"text-align: right;\">\n",
       "      <th></th>\n",
       "      <th>PassengerId</th>\n",
       "      <th>Pclass</th>\n",
       "      <th>Name</th>\n",
       "      <th>Sex</th>\n",
       "      <th>Age</th>\n",
       "      <th>SibSp</th>\n",
       "      <th>Parch</th>\n",
       "      <th>Ticket</th>\n",
       "      <th>Fare</th>\n",
       "      <th>Cabin</th>\n",
       "    </tr>\n",
       "  </thead>\n",
       "  <tbody>\n",
       "    <tr>\n",
       "      <th>0</th>\n",
       "      <td>1</td>\n",
       "      <td>3</td>\n",
       "      <td>Braund, Mr. Owen Harris</td>\n",
       "      <td>male</td>\n",
       "      <td>22.0</td>\n",
       "      <td>1</td>\n",
       "      <td>0</td>\n",
       "      <td>A/5 21171</td>\n",
       "      <td>7.2500</td>\n",
       "      <td>NaN</td>\n",
       "    </tr>\n",
       "    <tr>\n",
       "      <th>2</th>\n",
       "      <td>3</td>\n",
       "      <td>3</td>\n",
       "      <td>Heikkinen, Miss. Laina</td>\n",
       "      <td>female</td>\n",
       "      <td>26.0</td>\n",
       "      <td>0</td>\n",
       "      <td>0</td>\n",
       "      <td>STON/O2. 3101282</td>\n",
       "      <td>7.9250</td>\n",
       "      <td>NaN</td>\n",
       "    </tr>\n",
       "    <tr>\n",
       "      <th>4</th>\n",
       "      <td>5</td>\n",
       "      <td>3</td>\n",
       "      <td>Allen, Mr. William Henry</td>\n",
       "      <td>male</td>\n",
       "      <td>35.0</td>\n",
       "      <td>0</td>\n",
       "      <td>0</td>\n",
       "      <td>373450</td>\n",
       "      <td>8.0500</td>\n",
       "      <td>NaN</td>\n",
       "    </tr>\n",
       "    <tr>\n",
       "      <th>5</th>\n",
       "      <td>6</td>\n",
       "      <td>3</td>\n",
       "      <td>Moran, Mr. James</td>\n",
       "      <td>male</td>\n",
       "      <td>NaN</td>\n",
       "      <td>0</td>\n",
       "      <td>0</td>\n",
       "      <td>330877</td>\n",
       "      <td>8.4583</td>\n",
       "      <td>NaN</td>\n",
       "    </tr>\n",
       "    <tr>\n",
       "      <th>7</th>\n",
       "      <td>8</td>\n",
       "      <td>3</td>\n",
       "      <td>Palsson, Master. Gosta Leonard</td>\n",
       "      <td>male</td>\n",
       "      <td>2.0</td>\n",
       "      <td>3</td>\n",
       "      <td>1</td>\n",
       "      <td>349909</td>\n",
       "      <td>21.0750</td>\n",
       "      <td>NaN</td>\n",
       "    </tr>\n",
       "  </tbody>\n",
       "</table>\n",
       "</div>"
      ],
      "text/plain": [
       "   PassengerId  Pclass                            Name     Sex   Age  SibSp  \\\n",
       "0            1       3         Braund, Mr. Owen Harris    male  22.0      1   \n",
       "2            3       3          Heikkinen, Miss. Laina  female  26.0      0   \n",
       "4            5       3        Allen, Mr. William Henry    male  35.0      0   \n",
       "5            6       3                Moran, Mr. James    male   NaN      0   \n",
       "7            8       3  Palsson, Master. Gosta Leonard    male   2.0      3   \n",
       "\n",
       "   Parch            Ticket     Fare Cabin  \n",
       "0      0         A/5 21171   7.2500   NaN  \n",
       "2      0  STON/O2. 3101282   7.9250   NaN  \n",
       "4      0            373450   8.0500   NaN  \n",
       "5      0            330877   8.4583   NaN  \n",
       "7      1            349909  21.0750   NaN  "
      ]
     },
     "execution_count": 19,
     "metadata": {},
     "output_type": "execute_result"
    }
   ],
   "source": [
    "#Option - Ignore Embarked\n",
    "sample_incomplete_rows.drop(\"Embarked\", axis=1)"
   ]
  },
  {
   "cell_type": "code",
   "execution_count": 20,
   "id": "bdc97910",
   "metadata": {},
   "outputs": [
    {
     "data": {
      "text/plain": [
       "28.0"
      ]
     },
     "execution_count": 20,
     "metadata": {},
     "output_type": "execute_result"
    }
   ],
   "source": [
    "survival_df[\"Age\"].median()"
   ]
  },
  {
   "cell_type": "code",
   "execution_count": 21,
   "id": "85f2b6ba",
   "metadata": {},
   "outputs": [],
   "source": [
    "try:\n",
    "    from sklearn.impute import SimpleImputer # Scikit-Learn 0.20+\n",
    "except ImportError:\n",
    "    from sklearn.preprocessing import Imputer as SimpleImputer\n",
    "\n",
    "imputer = SimpleImputer(strategy=\"median\")"
   ]
  },
  {
   "cell_type": "code",
   "execution_count": 22,
   "id": "10819f2d",
   "metadata": {},
   "outputs": [],
   "source": [
    "def non_informative_columns(survival_data):\n",
    "    survival_n = survival_data.drop(['Name', 'Sex', 'Ticket', 'Cabin', 'Embarked'], axis=1)\n",
    "    return survival_n\n",
    "\n"
   ]
  },
  {
   "cell_type": "code",
   "execution_count": 23,
   "id": "5d173dfb",
   "metadata": {},
   "outputs": [
    {
     "data": {
      "text/plain": [
       "SimpleImputer(strategy='median')"
      ]
     },
     "execution_count": 23,
     "metadata": {},
     "output_type": "execute_result"
    }
   ],
   "source": [
    "survival_num = non_informative_columns(survival_df)\n",
    "imputer.fit(survival_num)"
   ]
  },
  {
   "cell_type": "code",
   "execution_count": 24,
   "id": "6d2cb108",
   "metadata": {},
   "outputs": [
    {
     "data": {
      "text/plain": [
       "array([446.    ,   3.    ,  28.    ,   0.    ,   0.    ,  14.4542])"
      ]
     },
     "execution_count": 24,
     "metadata": {},
     "output_type": "execute_result"
    }
   ],
   "source": [
    "imputer.statistics_"
   ]
  },
  {
   "cell_type": "code",
   "execution_count": 25,
   "id": "c2d50711",
   "metadata": {},
   "outputs": [
    {
     "data": {
      "text/plain": [
       "array([ 6.    ,  3.    , 28.    ,  0.    ,  0.    ,  8.4583])"
      ]
     },
     "execution_count": 25,
     "metadata": {},
     "output_type": "execute_result"
    }
   ],
   "source": [
    "X = imputer.transform(survival_num)\n",
    "X[5]"
   ]
  },
  {
   "cell_type": "code",
   "execution_count": 26,
   "id": "3050d197",
   "metadata": {},
   "outputs": [],
   "source": [
    "survival_tr = pd.DataFrame(X, columns=survival_num.columns)\n"
   ]
  },
  {
   "cell_type": "code",
   "execution_count": 27,
   "id": "fd28dd40",
   "metadata": {},
   "outputs": [
    {
     "data": {
      "text/html": [
       "<div>\n",
       "<style scoped>\n",
       "    .dataframe tbody tr th:only-of-type {\n",
       "        vertical-align: middle;\n",
       "    }\n",
       "\n",
       "    .dataframe tbody tr th {\n",
       "        vertical-align: top;\n",
       "    }\n",
       "\n",
       "    .dataframe thead th {\n",
       "        text-align: right;\n",
       "    }\n",
       "</style>\n",
       "<table border=\"1\" class=\"dataframe\">\n",
       "  <thead>\n",
       "    <tr style=\"text-align: right;\">\n",
       "      <th></th>\n",
       "      <th>PassengerId</th>\n",
       "      <th>Pclass</th>\n",
       "      <th>Age</th>\n",
       "      <th>SibSp</th>\n",
       "      <th>Parch</th>\n",
       "      <th>Fare</th>\n",
       "    </tr>\n",
       "  </thead>\n",
       "  <tbody>\n",
       "    <tr>\n",
       "      <th>0</th>\n",
       "      <td>1.0</td>\n",
       "      <td>3.0</td>\n",
       "      <td>22.0</td>\n",
       "      <td>1.0</td>\n",
       "      <td>0.0</td>\n",
       "      <td>7.2500</td>\n",
       "    </tr>\n",
       "    <tr>\n",
       "      <th>1</th>\n",
       "      <td>2.0</td>\n",
       "      <td>1.0</td>\n",
       "      <td>38.0</td>\n",
       "      <td>1.0</td>\n",
       "      <td>0.0</td>\n",
       "      <td>71.2833</td>\n",
       "    </tr>\n",
       "    <tr>\n",
       "      <th>2</th>\n",
       "      <td>3.0</td>\n",
       "      <td>3.0</td>\n",
       "      <td>26.0</td>\n",
       "      <td>0.0</td>\n",
       "      <td>0.0</td>\n",
       "      <td>7.9250</td>\n",
       "    </tr>\n",
       "    <tr>\n",
       "      <th>3</th>\n",
       "      <td>4.0</td>\n",
       "      <td>1.0</td>\n",
       "      <td>35.0</td>\n",
       "      <td>1.0</td>\n",
       "      <td>0.0</td>\n",
       "      <td>53.1000</td>\n",
       "    </tr>\n",
       "    <tr>\n",
       "      <th>4</th>\n",
       "      <td>5.0</td>\n",
       "      <td>3.0</td>\n",
       "      <td>35.0</td>\n",
       "      <td>0.0</td>\n",
       "      <td>0.0</td>\n",
       "      <td>8.0500</td>\n",
       "    </tr>\n",
       "    <tr>\n",
       "      <th>5</th>\n",
       "      <td>6.0</td>\n",
       "      <td>3.0</td>\n",
       "      <td>28.0</td>\n",
       "      <td>0.0</td>\n",
       "      <td>0.0</td>\n",
       "      <td>8.4583</td>\n",
       "    </tr>\n",
       "    <tr>\n",
       "      <th>6</th>\n",
       "      <td>7.0</td>\n",
       "      <td>1.0</td>\n",
       "      <td>54.0</td>\n",
       "      <td>0.0</td>\n",
       "      <td>0.0</td>\n",
       "      <td>51.8625</td>\n",
       "    </tr>\n",
       "    <tr>\n",
       "      <th>7</th>\n",
       "      <td>8.0</td>\n",
       "      <td>3.0</td>\n",
       "      <td>2.0</td>\n",
       "      <td>3.0</td>\n",
       "      <td>1.0</td>\n",
       "      <td>21.0750</td>\n",
       "    </tr>\n",
       "    <tr>\n",
       "      <th>8</th>\n",
       "      <td>9.0</td>\n",
       "      <td>3.0</td>\n",
       "      <td>27.0</td>\n",
       "      <td>0.0</td>\n",
       "      <td>2.0</td>\n",
       "      <td>11.1333</td>\n",
       "    </tr>\n",
       "    <tr>\n",
       "      <th>9</th>\n",
       "      <td>10.0</td>\n",
       "      <td>2.0</td>\n",
       "      <td>14.0</td>\n",
       "      <td>1.0</td>\n",
       "      <td>0.0</td>\n",
       "      <td>30.0708</td>\n",
       "    </tr>\n",
       "  </tbody>\n",
       "</table>\n",
       "</div>"
      ],
      "text/plain": [
       "   PassengerId  Pclass   Age  SibSp  Parch     Fare\n",
       "0          1.0     3.0  22.0    1.0    0.0   7.2500\n",
       "1          2.0     1.0  38.0    1.0    0.0  71.2833\n",
       "2          3.0     3.0  26.0    0.0    0.0   7.9250\n",
       "3          4.0     1.0  35.0    1.0    0.0  53.1000\n",
       "4          5.0     3.0  35.0    0.0    0.0   8.0500\n",
       "5          6.0     3.0  28.0    0.0    0.0   8.4583\n",
       "6          7.0     1.0  54.0    0.0    0.0  51.8625\n",
       "7          8.0     3.0   2.0    3.0    1.0  21.0750\n",
       "8          9.0     3.0  27.0    0.0    2.0  11.1333\n",
       "9         10.0     2.0  14.0    1.0    0.0  30.0708"
      ]
     },
     "execution_count": 27,
     "metadata": {},
     "output_type": "execute_result"
    }
   ],
   "source": [
    "survival_tr.head(10)"
   ]
  },
  {
   "cell_type": "markdown",
   "id": "f955efc3",
   "metadata": {},
   "source": [
    "Encode 'Sex' attribute"
   ]
  },
  {
   "cell_type": "code",
   "execution_count": 28,
   "id": "dad83fa9",
   "metadata": {},
   "outputs": [
    {
     "data": {
      "text/plain": [
       "(891, 1)"
      ]
     },
     "execution_count": 28,
     "metadata": {},
     "output_type": "execute_result"
    }
   ],
   "source": [
    "survival_sex = survival_df[['Sex']]\n",
    "survival_sex.shape"
   ]
  },
  {
   "cell_type": "code",
   "execution_count": 29,
   "id": "e030fdf0",
   "metadata": {},
   "outputs": [],
   "source": [
    "try:\n",
    "    from sklearn.preprocessing import OrdinalEncoder\n",
    "except ImportError:\n",
    "    from future_encoders import OrdinalEncoder # Scikit-Learn < 0.20"
   ]
  },
  {
   "cell_type": "code",
   "execution_count": 30,
   "id": "7e16fee3",
   "metadata": {},
   "outputs": [
    {
     "data": {
      "text/plain": [
       "array([[1.],\n",
       "       [0.],\n",
       "       [0.],\n",
       "       [0.],\n",
       "       [1.],\n",
       "       [1.],\n",
       "       [1.],\n",
       "       [1.],\n",
       "       [0.],\n",
       "       [0.]])"
      ]
     },
     "execution_count": 30,
     "metadata": {},
     "output_type": "execute_result"
    }
   ],
   "source": [
    "ordinal_encoder = OrdinalEncoder()\n",
    "survival_sex_encoded = ordinal_encoder.fit_transform(survival_sex)\n",
    "survival_sex_encoded[:10]"
   ]
  },
  {
   "cell_type": "code",
   "execution_count": 31,
   "id": "275f7963",
   "metadata": {},
   "outputs": [
    {
     "data": {
      "text/plain": [
       "<891x2 sparse matrix of type '<class 'numpy.float64'>'\n",
       "\twith 891 stored elements in Compressed Sparse Row format>"
      ]
     },
     "execution_count": 31,
     "metadata": {},
     "output_type": "execute_result"
    }
   ],
   "source": [
    "try:\n",
    "    from sklearn.preprocessing import OrdinalEncoder # just to raise an ImportError if Scikit-Learn < 0.20\n",
    "    from sklearn.preprocessing import OneHotEncoder\n",
    "except ImportError:\n",
    "    from future_encoders import OneHotEncoder # Scikit-Learn < 0.20\n",
    "\n",
    "cat_encoder = OneHotEncoder()\n",
    "survival_sex_1hot = cat_encoder.fit_transform(survival_sex)\n",
    "survival_sex_1hot"
   ]
  },
  {
   "cell_type": "code",
   "execution_count": 32,
   "id": "00dd4c2f",
   "metadata": {},
   "outputs": [
    {
     "data": {
      "text/plain": [
       "array([[0., 1.],\n",
       "       [1., 0.],\n",
       "       [1., 0.],\n",
       "       ...,\n",
       "       [1., 0.],\n",
       "       [0., 1.],\n",
       "       [0., 1.]])"
      ]
     },
     "execution_count": 32,
     "metadata": {},
     "output_type": "execute_result"
    }
   ],
   "source": [
    "survival_sex_1hot.toarray()"
   ]
  },
  {
   "cell_type": "code",
   "execution_count": null,
   "id": "2f9b2b81",
   "metadata": {},
   "outputs": [],
   "source": []
  },
  {
   "cell_type": "code",
   "execution_count": 33,
   "id": "0694b4a9",
   "metadata": {},
   "outputs": [
    {
     "data": {
      "text/plain": [
       "array([[-1.73010796,  0.82737724, -0.56573646,  0.43279337, -0.47367361,\n",
       "        -0.50244517],\n",
       "       [-1.72622007, -1.56610693,  0.66386103,  0.43279337, -0.47367361,\n",
       "         0.78684529],\n",
       "       [-1.72233219,  0.82737724, -0.25833709, -0.4745452 , -0.47367361,\n",
       "        -0.48885426],\n",
       "       ...,\n",
       "       [ 1.72233219,  0.82737724, -0.1046374 ,  0.43279337,  2.00893337,\n",
       "        -0.17626324],\n",
       "       [ 1.72622007, -1.56610693, -0.25833709, -0.4745452 , -0.47367361,\n",
       "        -0.04438104],\n",
       "       [ 1.73010796,  0.82737724,  0.20276197, -0.4745452 , -0.47367361,\n",
       "        -0.49237783]])"
      ]
     },
     "execution_count": 33,
     "metadata": {},
     "output_type": "execute_result"
    }
   ],
   "source": [
    "from sklearn.pipeline import Pipeline\n",
    "from sklearn.preprocessing import StandardScaler\n",
    "\n",
    "num_pipeline = Pipeline([\n",
    "        ('imputer', SimpleImputer(strategy=\"median\")),\n",
    "        ('std_scaler', StandardScaler()),\n",
    "    ])\n",
    "\n",
    "survival_num_tr = num_pipeline.fit_transform(survival_num)\n",
    "survival_num_tr"
   ]
  },
  {
   "cell_type": "code",
   "execution_count": 34,
   "id": "333d68c5",
   "metadata": {},
   "outputs": [],
   "source": [
    "try:\n",
    "    from sklearn.compose import ColumnTransformer\n",
    "except ImportError:\n",
    "    from future_encoders import ColumnTransformer # Scikit-Learn < 0.20"
   ]
  },
  {
   "cell_type": "code",
   "execution_count": 35,
   "id": "52456d6b",
   "metadata": {},
   "outputs": [],
   "source": [
    "num_attribs = list(survival_num)\n",
    "cat_attribs = [\"Sex\"]\n",
    "\n",
    "full_pipeline = ColumnTransformer([\n",
    "        (\"num\", num_pipeline, num_attribs),\n",
    "        (\"cat\", OneHotEncoder(), cat_attribs),\n",
    "    ])\n",
    "\n",
    "survival_prepared = full_pipeline.fit_transform(survival_df)"
   ]
  },
  {
   "cell_type": "code",
   "execution_count": 36,
   "id": "7f118a35",
   "metadata": {},
   "outputs": [
    {
     "data": {
      "text/plain": [
       "array([[-1.73010796,  0.82737724, -0.56573646, ..., -0.50244517,\n",
       "         0.        ,  1.        ],\n",
       "       [-1.72622007, -1.56610693,  0.66386103, ...,  0.78684529,\n",
       "         1.        ,  0.        ],\n",
       "       [-1.72233219,  0.82737724, -0.25833709, ..., -0.48885426,\n",
       "         1.        ,  0.        ],\n",
       "       ...,\n",
       "       [ 1.72233219,  0.82737724, -0.1046374 , ..., -0.17626324,\n",
       "         1.        ,  0.        ],\n",
       "       [ 1.72622007, -1.56610693, -0.25833709, ..., -0.04438104,\n",
       "         0.        ,  1.        ],\n",
       "       [ 1.73010796,  0.82737724,  0.20276197, ..., -0.49237783,\n",
       "         0.        ,  1.        ]])"
      ]
     },
     "execution_count": 36,
     "metadata": {},
     "output_type": "execute_result"
    }
   ],
   "source": [
    "survival_prepared"
   ]
  },
  {
   "cell_type": "code",
   "execution_count": 37,
   "id": "1ea0b684",
   "metadata": {},
   "outputs": [
    {
     "data": {
      "text/plain": [
       "(891, 8)"
      ]
     },
     "execution_count": 37,
     "metadata": {},
     "output_type": "execute_result"
    }
   ],
   "source": [
    "survival_prepared.shape"
   ]
  },
  {
   "cell_type": "code",
   "execution_count": null,
   "id": "58dfb3de",
   "metadata": {},
   "outputs": [],
   "source": []
  },
  {
   "cell_type": "code",
   "execution_count": 38,
   "id": "dca85849",
   "metadata": {},
   "outputs": [
    {
     "data": {
      "text/plain": [
       "SGDClassifier(random_state=42)"
      ]
     },
     "execution_count": 38,
     "metadata": {},
     "output_type": "execute_result"
    }
   ],
   "source": [
    "from sklearn.linear_model import SGDClassifier\n",
    "\n",
    "sgd_clf = SGDClassifier(random_state=42)\n",
    "sgd_clf.fit(survival_prepared, survival_labels)"
   ]
  },
  {
   "cell_type": "code",
   "execution_count": 39,
   "id": "01a922fe",
   "metadata": {},
   "outputs": [
    {
     "name": "stdout",
     "output_type": "stream",
     "text": [
      "Predictions: [0 1 1 1 0 0 0 0 0 1]\n"
     ]
    }
   ],
   "source": [
    "# let's try the full preprocessing pipeline on a few training instances\n",
    "some_data = survival_df.iloc[:10]\n",
    "some_labels = survival_labels.iloc[:10]\n",
    "some_data_prepared = full_pipeline.transform(some_data)\n",
    "\n",
    "print(\"Predictions:\", sgd_clf.predict(some_data_prepared))"
   ]
  },
  {
   "cell_type": "code",
   "execution_count": 40,
   "id": "cef83a1a",
   "metadata": {},
   "outputs": [
    {
     "data": {
      "text/plain": [
       "array([0.8       , 0.79775281, 0.70786517, 0.82022472, 0.82022472,\n",
       "       0.71910112, 0.75280899, 0.69662921, 0.80898876, 0.7752809 ])"
      ]
     },
     "execution_count": 40,
     "metadata": {},
     "output_type": "execute_result"
    }
   ],
   "source": [
    "import numpy as np\n",
    "from sklearn.model_selection import cross_val_score\n",
    "\n",
    "scores = cross_val_score(sgd_clf, survival_prepared, survival_labels,\n",
    "                         scoring=\"accuracy\", cv=10)\n",
    "scores"
   ]
  },
  {
   "cell_type": "code",
   "execution_count": 41,
   "id": "7f476c9a",
   "metadata": {},
   "outputs": [],
   "source": [
    "from sklearn.model_selection import cross_val_predict\n",
    "y_train_pred = cross_val_predict(sgd_clf, survival_prepared, survival_labels, cv=3)"
   ]
  },
  {
   "cell_type": "code",
   "execution_count": 42,
   "id": "8c5b9b83",
   "metadata": {},
   "outputs": [
    {
     "data": {
      "text/plain": [
       "array([[436, 113],\n",
       "       [116, 226]])"
      ]
     },
     "execution_count": 42,
     "metadata": {},
     "output_type": "execute_result"
    }
   ],
   "source": [
    "from sklearn.metrics import confusion_matrix\n",
    "confusion_matrix(survival_labels, y_train_pred)"
   ]
  },
  {
   "cell_type": "code",
   "execution_count": 43,
   "id": "bef11606",
   "metadata": {},
   "outputs": [
    {
     "data": {
      "text/plain": [
       "0.6666666666666666"
      ]
     },
     "execution_count": 43,
     "metadata": {},
     "output_type": "execute_result"
    }
   ],
   "source": [
    "from sklearn.metrics import precision_score, recall_score\n",
    "precision_score(survival_labels, y_train_pred)"
   ]
  },
  {
   "cell_type": "code",
   "execution_count": 44,
   "id": "94d9c681",
   "metadata": {},
   "outputs": [
    {
     "data": {
      "text/plain": [
       "0.6608187134502924"
      ]
     },
     "execution_count": 44,
     "metadata": {},
     "output_type": "execute_result"
    }
   ],
   "source": [
    "recall_score(survival_labels, y_train_pred)"
   ]
  },
  {
   "cell_type": "code",
   "execution_count": 45,
   "id": "eda47cd4",
   "metadata": {},
   "outputs": [
    {
     "data": {
      "text/plain": [
       "0.6637298091042584"
      ]
     },
     "execution_count": 45,
     "metadata": {},
     "output_type": "execute_result"
    }
   ],
   "source": [
    "from sklearn.metrics import f1_score\n",
    "f1_score(survival_labels, y_train_pred)"
   ]
  },
  {
   "cell_type": "code",
   "execution_count": 46,
   "id": "d2e61315",
   "metadata": {},
   "outputs": [
    {
     "data": {
      "text/plain": [
       "array([-2.94344498e+00,  1.72703999e+00,  7.03201386e-01,  1.88371851e+00,\n",
       "       -3.41001162e+00, -2.84245817e+00, -2.47276417e+00, -3.62587466e+00,\n",
       "       -1.83821370e+00,  2.35183686e+00,  7.24627432e-01,  4.87868685e-01,\n",
       "       -2.18373842e+00, -1.03894612e+01,  1.69763576e+00, -4.35395814e-01,\n",
       "       -4.12949352e+00, -1.66813757e+00, -1.75441146e-01,  5.80657538e-01,\n",
       "       -2.15981850e+00, -2.14094959e+00,  1.63772068e+00, -4.20113576e-01,\n",
       "       -6.71954486e-01, -6.88419217e+00, -2.79691563e+00, -2.75348950e+00,\n",
       "        6.06001276e-01, -2.78623784e+00, -1.40651094e+00,  2.97575671e+00,\n",
       "        6.15196727e-01, -4.69786802e+00, -7.28595181e-01, -2.00090823e+00,\n",
       "       -2.77231542e+00, -2.20273026e+00,  3.54056631e-01,  1.21037965e+00,\n",
       "       -8.87320650e-01,  1.34008606e+00, -2.75428447e+00,  8.85413084e-01,\n",
       "        1.36929426e+00, -2.74615112e+00, -3.27238881e+00,  6.52066006e-01,\n",
       "       -3.80242769e+00,  9.45498600e-01, -4.39610223e+00, -2.16955027e+00,\n",
       "        9.94371524e-01,  1.23332701e+00, -4.43556321e+00, -3.41459115e-01,\n",
       "        2.37327246e+00, -2.76091875e+00,  6.93287295e-01, -6.47137073e+00,\n",
       "       -2.23068074e+00,  2.48283956e+00, -2.02083974e+00, -4.86125715e+00,\n",
       "       -3.57652908e-01, -4.47270184e+00,  1.75432687e+00, -1.96757701e+00,\n",
       "       -3.16369050e+00, -3.65404135e+00, -1.87194207e+00, -3.44929967e+00,\n",
       "       -6.71881453e-01, -3.05029377e+00, -2.75802006e+00, -2.43306079e+00,\n",
       "       -2.67071410e+00, -2.66749666e+00, -1.74534876e+00,  5.93111516e-01,\n",
       "       -2.17279988e+00, -2.73096372e+00,  7.38279024e-01, -2.15502284e-01,\n",
       "        2.76385767e+00, -1.31300831e+00, -5.85310317e+00, -2.64291714e+00,\n",
       "        4.69461840e-01, -2.31623868e+00, -2.71598392e+00, -1.99052460e+00,\n",
       "       -2.13737735e+00, -5.46251177e+00, -5.12331158e+00, -2.62325352e+00,\n",
       "       -3.70379644e+00, -9.44571875e-01,  2.46583042e-01, -2.45058923e+00,\n",
       "        7.83055575e-01, -2.60926530e+00, -7.02794512e-01, -3.00281720e+00,\n",
       "       -4.45649252e+00, -2.59943350e+00,  1.35967711e+00, -2.59511257e+00,\n",
       "       -3.39646603e+00,  3.19845361e-01, -1.65337546e+00,  1.36295459e+00,\n",
       "       -2.09882451e+00,  9.02646498e-01,  1.73463661e+00, -2.01162568e+00,\n",
       "       -5.99184130e+00, -2.02876970e+00, -6.63289024e-02, -1.71671821e+00,\n",
       "       -1.68467890e+00, -2.55934677e+00, -2.25334522e+00,  1.62520129e+00,\n",
       "       -3.30326066e+00, -1.81213404e+00, -2.54853462e+00, -2.22731021e+00,\n",
       "       -8.88040415e-01, -3.91246879e+00, -2.94018789e+00, -1.89616750e+00,\n",
       "       -1.19952361e+00,  1.42996316e+00, -1.13923527e+00, -9.65819741e-01,\n",
       "        1.43945982e+00, -1.34257604e+00, -1.54652750e+00,  4.02009637e-01,\n",
       "       -1.57394914e+00,  1.36575732e+00,  6.81839842e-01, -1.78770905e+00,\n",
       "       -5.58959320e-01, -2.32372833e+00, -2.41870936e+00, -1.06493228e+00,\n",
       "       -4.45738580e+00, -2.46985686e+00, -3.19370420e+00,  3.35971606e+00,\n",
       "       -4.69526784e+00, -5.94595592e+00, -2.48186681e+00, -3.06409634e+00,\n",
       "        1.88518818e+00, -2.63174178e+00, -2.46538577e+00, -9.17767570e+00,\n",
       "       -4.95664982e+00,  1.12884341e+00, -2.29904394e+00, -1.56824898e+00,\n",
       "       -3.63325188e+00, -3.35290507e+00,  2.17643481e+00, -5.86966257e+00,\n",
       "       -1.10870870e-01, -2.20275207e+00, -2.72318645e+00, -3.90939225e+00,\n",
       "        1.33671956e+00, -1.86906447e+00, -2.32496315e+00, -3.43432703e+00,\n",
       "       -5.28030670e+00,  1.55006491e+00, -1.43328858e+00, -3.09995982e+00,\n",
       "       -5.73127988e+00, -1.25493646e+00, -5.51917644e+00, -1.33670216e+00,\n",
       "        4.98166084e-01,  4.94923558e-02,  4.66503294e-01, -1.42858230e+00,\n",
       "       -5.13440940e+00, -3.03649065e+00,  1.83010439e+00, -5.16488179e-01,\n",
       "        1.16755844e+00, -9.71644033e-01,  2.06960945e+00,  1.53103123e+00,\n",
       "       -2.37647799e+00, -4.74272891e+00,  1.02321675e+00,  2.49575107e+00,\n",
       "       -2.35802680e+00, -9.07444172e+00, -2.85055150e+00, -3.76956932e+00,\n",
       "       -1.55093037e+00,  1.89947697e+00, -3.19915518e+00, -2.13419558e+00,\n",
       "        2.01308393e+00, -9.50386308e-01, -2.02375186e+00,  1.67980234e+00,\n",
       "       -1.85696960e+00, -1.34726027e+00, -2.89762442e+00,  3.02295041e+00,\n",
       "        1.14876246e+00, -2.79915066e+00,  3.33311713e+00, -1.34482596e+00,\n",
       "       -1.35072186e+00, -1.08627473e+00, -4.16122833e+00, -2.30939517e+00,\n",
       "       -1.02742908e+00, -1.81467297e+00, -4.42773262e-01, -1.69943937e+00,\n",
       "       -3.45103319e-01, -1.75525642e+00,  2.59128141e+00, -2.37076718e+00,\n",
       "       -3.63087503e+00, -1.67727951e+00, -8.25312842e-01,  1.11317590e+00,\n",
       "       -2.91825621e+00,  1.44994030e+00, -4.13277839e-01, -1.52824632e+00,\n",
       "        5.94081756e-01,  6.01690650e-01, -1.20785242e+00, -1.78138876e+00,\n",
       "       -2.42196339e+00, -2.02384549e+00,  1.38264349e+00,  1.29596614e-01,\n",
       "       -2.31819373e+00, -3.69070922e+00, -2.24621126e+00, -7.24744066e-01,\n",
       "       -2.63630629e+00, -2.92151882e+00, -2.31500814e+00, -1.37172531e+00,\n",
       "        3.76260629e+00,  3.64013809e+00,  5.33775498e+00, -6.29960844e-01,\n",
       "       -2.21916906e+00, -4.84235440e+00, -3.35693542e+00, -9.70343066e-01,\n",
       "        1.18544157e+00, -1.71440400e+00, -4.58915037e+00, -2.52590792e+00,\n",
       "        4.98889993e-01,  3.50942951e+00,  1.64836428e-01, -1.98898122e+00,\n",
       "        9.39434426e-02, -1.80392053e+00,  1.21002109e+00,  4.22379615e-01,\n",
       "       -1.52553869e-01, -1.09309975e+00, -3.88771331e+00, -1.09035829e+00,\n",
       "       -5.14631367e+00, -2.16703885e+00, -1.19118707e+00, -1.43719281e+00,\n",
       "        1.74620955e-01, -2.55542907e+00, -2.30752421e+00, -1.66944241e+00,\n",
       "       -2.12820154e+00,  1.72953421e+00,  4.00533405e+00,  4.06572012e+00,\n",
       "       -1.63634157e+00,  1.58390263e+00, -1.81311803e+00,  2.10133985e-01,\n",
       "       -1.77126505e+00,  3.25427497e+00,  2.31196402e-01,  1.68188261e+00,\n",
       "        1.27392784e+00, -3.17282909e+00, -1.43014087e+00,  2.42641403e+00,\n",
       "       -2.10954157e+00, -3.39643515e-02,  4.04155554e+00,  4.35370249e+00,\n",
       "       -1.62496544e+00,  3.62230475e+00,  4.23659430e+00,  1.98209953e+00,\n",
       "        8.65496377e-01, -2.08817950e+00, -3.89062607e+00,  1.47219162e+00,\n",
       "        2.28197156e+00, -3.01728325e+00,  1.60409254e+00,  1.41339034e+00,\n",
       "       -1.59151079e+00, -1.98807524e+00,  2.31223384e+00,  1.22907248e+00,\n",
       "       -8.77211364e+00,  3.56663418e+00, -4.71893494e+00,  1.84508125e+00,\n",
       "       -6.46801610e-01,  3.55704227e+00,  2.93230342e-01, -1.10525309e+00,\n",
       "       -1.12976713e+00, -2.15474510e+00,  3.65712282e+00, -2.03410455e+00,\n",
       "       -1.43426136e-01,  3.18834449e+00, -3.39346207e+00, -1.01089163e+00,\n",
       "       -5.29884461e-01,  1.01088304e+00, -8.69303191e-01, -6.25523322e-01,\n",
       "       -1.50791240e+00,  2.85461205e+00,  1.57001978e+00,  8.65188769e-01,\n",
       "       -1.76286330e+00, -3.12208590e+00, -1.58848529e+00,  3.83631974e-01,\n",
       "       -2.76102597e+00, -2.26514732e+00, -1.99070740e+00, -1.97704425e+00,\n",
       "        3.12608951e+00,  1.75793853e+00,  1.41712541e+00,  1.41958336e+00,\n",
       "       -8.38785348e+00, -1.39592707e+00, -1.15391150e+00, -2.53253224e+00,\n",
       "       -2.49076009e+00, -2.12442807e+00,  8.74035805e-01,  1.43604549e+00,\n",
       "        1.44106857e+00,  4.31335635e+00,  2.06948141e-01, -1.71349697e+00,\n",
       "       -1.21843509e+00,  1.41600599e+00,  5.90531882e-01,  3.50434525e+00,\n",
       "        1.94091334e+00, -1.09421878e+00, -1.30401416e+00, -1.20258390e+00,\n",
       "        3.67177741e+00,  1.19275701e+00, -2.24019955e+00,  2.81232234e+00,\n",
       "       -1.91366491e+00,  3.38779416e-01, -4.86321406e+00,  1.99255836e+00,\n",
       "       -1.90465367e+00,  3.52092105e+00, -2.80229117e+00, -1.33386731e+00,\n",
       "       -3.02463661e+00,  4.10399097e+00, -6.20704337e-01, -1.40447614e+00,\n",
       "        1.26908253e+00, -2.11801766e+00, -3.41768088e-01,  2.66385502e+00,\n",
       "       -2.75904089e+00, -1.71023896e+00,  1.53255396e+00, -2.39317609e+00,\n",
       "        2.17757435e+00, -1.72308274e+00, -3.71044278e+00, -4.81351182e-01,\n",
       "       -1.29218457e+00, -1.31282507e+00, -1.84975816e+00, -1.85241027e+00,\n",
       "        3.23164791e+00, -7.58818285e-01, -3.12683276e+00,  1.55806992e+00,\n",
       "        5.09613104e-01,  1.02270424e+00, -8.43380123e-01,  6.03607341e-01,\n",
       "       -1.82517864e+00, -1.26043659e+00, -1.90080582e+00, -2.02142091e-01,\n",
       "       -2.76142792e+00, -1.81606968e+00,  2.23058371e+00,  3.52239699e+00,\n",
       "       -1.80623314e+00, -2.12406014e+00,  5.36190883e-01,  1.07165673e+00,\n",
       "        1.11916248e+00, -9.12174702e-01, -1.64450162e+00,  2.47278956e+00,\n",
       "       -1.31987184e+00, -1.75900097e+00, -6.72384507e+00, -8.84517172e-01,\n",
       "       -3.47026580e-01, -1.12213527e+00, -2.09576633e+00,  2.77372878e+00,\n",
       "       -1.76512047e+00,  2.84524603e-01,  2.77396497e+00,  9.53322314e-02,\n",
       "        1.16798071e+00, -1.32822820e+00, -4.23163419e+00, -2.25491817e+00,\n",
       "        4.35294979e-01, -1.35381725e+00, -1.74084878e+00, -1.81959096e+00,\n",
       "       -2.37620601e+00,  3.55661802e+00,  1.02859060e+00, -1.73003663e+00,\n",
       "       -9.98883341e-01, -2.20628696e+00, -8.54668745e-01, -2.18070379e+00,\n",
       "       -1.71626926e+00, -2.52314306e+00, -6.28546833e-01, -1.62520279e+00,\n",
       "       -1.70803820e+00,  1.56147042e+00, -1.70546184e+00, -2.50045321e+00,\n",
       "       -5.41458504e-01,  3.25356994e+00,  2.19453700e+00,  7.72149133e-01,\n",
       "       -1.54856816e+00, -2.33509214e+00, -1.20182060e+00,  2.58194458e+00,\n",
       "       -5.27569169e+00, -5.91677554e-01, -3.44172019e+00, -1.08263898e+00,\n",
       "        6.62682179e-01, -1.12602073e+00,  3.25265507e+00, -1.72141015e+00,\n",
       "       -1.81815970e+00, -1.89893591e+00, -2.15905805e+00, -1.09076038e+00,\n",
       "       -1.46385818e+00, -2.65484793e+00, -1.07944623e+00, -1.60850957e+00,\n",
       "        1.69107172e+00, -1.60043306e+00,  1.89818861e+00, -1.30973042e+00,\n",
       "       -7.39919183e-01,  2.33106065e+00,  1.76983915e+00,  1.05797668e+00,\n",
       "        5.37342116e+00,  1.36515750e+00,  9.88820510e-02,  7.25453181e-01,\n",
       "       -1.53682479e+00, -1.20616714e+00, -1.68512172e+00, -1.60074552e+00,\n",
       "        9.29249211e-02,  1.63993161e+00, -1.27433875e+00, -7.46458966e-01,\n",
       "        2.45820204e+00, -1.50669952e+00,  1.81319018e+00, -1.90360396e+00,\n",
       "        4.32105696e+00, -1.09428166e+00, -1.57777148e+00,  1.78154705e+00,\n",
       "       -1.57283489e+00, -2.57331979e+00,  1.19573133e+00,  1.73618632e+00,\n",
       "       -2.44442304e+00, -2.39139226e+00,  3.33190523e+00, -1.55562922e+00,\n",
       "       -2.47947590e+00, -5.72942412e-01,  1.69270170e+00,  2.26285061e+00,\n",
       "       -5.70757078e-01,  4.42650243e+00, -1.50261225e+00,  2.30304313e+00,\n",
       "        1.28522738e+00, -1.24254697e+00, -1.40097030e+00, -1.19837730e+00,\n",
       "       -1.12527309e+00, -2.07971660e+00,  3.24950369e+00, -3.61174924e-01,\n",
       "       -3.66171230e+00, -4.45868724e-01, -3.60160178e-01, -2.11120919e-01,\n",
       "       -1.50105702e+00, -1.01893113e+00,  2.38101460e+00, -1.89154686e+00,\n",
       "        2.13074525e+00,  1.83822501e+00,  1.81112548e+00,  7.49152432e-01,\n",
       "       -1.48178349e+00, -2.44389509e+00, -3.26091088e-01, -1.47293202e+00,\n",
       "        1.92430476e+00, -2.19773441e+00, -7.42351907e-01, -3.06765759e+00,\n",
       "       -1.46468500e+00, -1.78091125e+00, -3.05618528e+00,  1.25853110e+00,\n",
       "        2.40894572e-01,  1.94494872e+00, -4.80606884e-01, -6.87702277e-01,\n",
       "        2.61799255e+00,  2.98661136e+00,  1.42488970e+00, -1.75598302e+00,\n",
       "        1.62436957e+00,  2.02149363e+00, -2.30682167e+00,  3.35594177e-01,\n",
       "       -1.41805198e+00,  2.88637108e+00, -1.78808434e+00, -3.20384257e+00,\n",
       "       -9.28839392e-01, -1.40902527e+00, -1.97420775e+00,  2.08545843e+00,\n",
       "       -2.93396385e+00, -4.97416434e-01, -1.47522495e+00, -3.76965604e+00,\n",
       "        3.24830263e+00, -3.11826423e+00, -1.39096713e+00, -1.15342973e+00,\n",
       "        1.17380360e+00, -1.38028934e+00,  1.03702557e+00, -2.66166417e+00,\n",
       "        4.00790044e-01, -2.54167253e+00, -1.52888086e+00,  1.07114418e+00,\n",
       "        7.45783777e-01,  4.03074520e+00, -5.52728504e+00, -1.35987569e+00,\n",
       "        1.51359081e+00, -1.35151204e+00, -1.91066095e+00,  7.17464035e-01,\n",
       "       -3.60518003e+00,  1.68971707e+00,  2.88596384e+00, -3.98826304e-02,\n",
       "       -1.78623470e+00, -5.57818769e-01, -2.45765502e+00, -7.63334821e-01,\n",
       "       -7.20263335e-01, -1.61062631e+00, -2.50722486e+00,  5.23147510e+00,\n",
       "       -1.15304336e+00, -1.31226706e+00, -3.13813947e+00, -3.16083067e+00,\n",
       "        7.30389787e-01,  9.04386814e-01, -4.65190965e-01,  3.24565555e+00,\n",
       "       -1.61587976e+00, -2.13141993e+00, -5.01251950e+00, -1.81186810e+00,\n",
       "       -6.41108999e-01,  4.98191927e+00,  1.17557124e-01, -1.03768286e+00,\n",
       "        1.99161201e+00, -8.62401178e-01, -5.45715754e-01, -1.13868947e+00,\n",
       "       -1.26646879e+00,  2.53297119e+00, -1.25984970e+00,  2.89288068e+00,\n",
       "       -6.89201939e-01,  2.14197496e+00,  2.94352385e+00, -6.10996539e-01,\n",
       "       -1.24510199e+00,  5.66739984e-02,  3.09612812e-01, -3.37852964e+00,\n",
       "       -1.27144731e+00, -2.20140383e+00, -4.26677073e-01, -1.87339158e+00,\n",
       "       -1.14715901e+00, -1.22994213e+00,  1.68395149e-01, -1.21865950e+00,\n",
       "       -2.42145666e+00,  4.07838107e+00,  6.83303898e-01,  4.47196223e-01,\n",
       "       -3.44899930e+00, -2.97043022e-01, -1.17292834e-01, -3.94589492e-01,\n",
       "       -9.13641221e-01,  3.01528448e+00, -6.85071021e+00,  1.65157117e+00,\n",
       "        2.20985815e+00,  1.48072808e+00, -5.31123335e-01, -5.17893064e+00,\n",
       "       -4.28587639e+00, -2.70105467e+00, -3.39592928e+00, -4.33734531e-01,\n",
       "       -3.62533670e-01,  5.27769045e+00,  5.18524110e-01,  2.94771083e+00,\n",
       "       -9.17243218e-01, -9.16139779e-01, -1.38901026e+00, -1.92975882e+00,\n",
       "       -2.43307464e+00,  2.24965250e+00, -1.89011122e+00, -2.26678965e+00,\n",
       "        5.82350779e+00,  6.37918473e-01,  1.85368941e+00, -8.89015327e-01,\n",
       "       -1.53183348e+00, -7.97883993e-01,  2.05514195e+00,  8.95817112e-02,\n",
       "        5.71259419e+00, -2.88978080e+00,  5.05401651e+00,  1.22687537e+00,\n",
       "       -8.19518613e-01, -1.17762036e+00, -1.88552041e+00, -3.77327725e-01,\n",
       "        4.81941181e+00,  3.51533485e+00, -1.05525554e+00, -1.49304919e+00,\n",
       "        4.07702063e+00, -7.70022834e-01, -4.17925295e-01, -1.70251757e+00,\n",
       "        9.04648127e-01, -4.28201917e-01,  1.65168207e+00,  2.32341175e+00,\n",
       "       -1.80571720e-01,  2.00518350e+00,  5.49805962e+00,  3.60380817e-01,\n",
       "        2.52683780e-02,  4.93959206e-01,  4.96417158e-01, -1.05073547e+00,\n",
       "       -3.43475604e+00,  3.12033512e+00, -1.04354993e+00, -1.04109198e+00,\n",
       "        1.31514847e+00,  3.49295580e-01,  2.80015489e+00, -1.23447854e+00,\n",
       "       -1.26998031e+00, -3.66028051e+00, -1.80890142e+00,  3.36006489e+00,\n",
       "        1.60716409e+00, -1.25855249e+00,  3.69699730e+00, -4.65110379e-01,\n",
       "       -1.40344053e+00, -6.04477454e-01, -8.71455986e-01,  5.40509996e-01,\n",
       "       -9.99799330e-01,  9.47765208e-01, -1.47627523e+00,  4.63270804e+00,\n",
       "       -9.56946924e-01, -2.03654181e+00, -3.44317215e-01,  1.50930373e+00,\n",
       "       -1.49504932e-02,  2.59206373e+00,  1.42633868e+00,  2.22068979e+00,\n",
       "       -1.45514315e+00, -1.28681731e+00, -6.35231648e-01, -2.57145519e+00,\n",
       "        1.23730303e+00, -9.60825543e-01, -2.75756800e+00, -1.48917434e-01,\n",
       "       -9.50865873e-01,  4.31977793e+00, -9.46011536e-01,  3.24656822e+00,\n",
       "        3.65778922e+00,  5.26314551e+00,  1.33794181e+00, -3.91324582e+00,\n",
       "       -6.93328093e-01, -6.89885069e-01,  3.27164684e+00, -2.71705642e+00,\n",
       "       -1.74321921e+00,  2.29984326e-01, -9.16454546e-01,  1.26363457e+00,\n",
       "       -4.22701331e+00,  1.44884699e+00, -6.64582704e-01, -6.40698000e-01,\n",
       "        3.13826903e+00,  2.25880487e+00, -1.06023734e+00,  6.09188814e-01,\n",
       "       -2.26205045e-01,  1.66646301e+00,  2.21401002e-01,  9.20658341e-02,\n",
       "       -8.05419734e-01, -1.12078405e+00,  4.44765466e-01,  3.32463899e+00,\n",
       "       -6.08744625e-01,  4.02570904e+00, -7.05736993e-01, -1.66890868e+00,\n",
       "       -2.89463661e-01, -3.32662133e-01, -1.05708769e+00,  1.35173406e+00,\n",
       "        2.94529617e+00, -1.63602028e+00, -2.06064445e+00, -3.48568933e+00,\n",
       "        1.47759682e+00, -7.55323007e-01,  5.64533336e-01,  1.41738757e+00,\n",
       "       -2.09144425e+00, -8.34366517e-01, -5.87877661e-01,  1.21405886e-01,\n",
       "       -8.23052373e-01,  2.43997130e+00,  3.09000170e+00,  7.35376620e-01,\n",
       "       -8.15785693e-01, -4.08046196e-01, -1.18932280e-03,  2.50925781e+00,\n",
       "       -2.35809893e-01, -7.99453198e-01, -8.80144794e-01,  1.55700810e+00,\n",
       "       -1.49169899e-01,  1.31018909e+00,  4.80468248e+00, -1.31551178e+00,\n",
       "        1.05616279e-01, -1.90842121e+00, -7.48906273e+00, -1.33871764e+00,\n",
       "       -7.72834412e-01,  4.70356396e+00, -3.47561546e+00, -4.46666574e+00,\n",
       "        2.38485730e+00,  4.75349983e+00,  1.99553691e+00,  2.20461603e+00,\n",
       "        2.48067425e+00, -2.64398345e-01, -7.13376191e-01, -7.49420991e-01,\n",
       "       -2.88958844e+00,  3.96680721e-01,  3.38093450e+00, -4.05249872e+00,\n",
       "        7.35510269e-01,  2.68481555e+00,  3.33272095e+00,  1.48693564e+00,\n",
       "       -7.16114916e-01, -5.86188699e-01, -5.58218997e-01,  1.80348275e+00,\n",
       "        1.11426093e+00, -2.23465998e+00,  3.32189545e+00,  3.73039269e+00,\n",
       "       -5.12229987e-02,  2.20711402e-02, -6.99436660e-01,  1.81530640e+00,\n",
       "        2.90744328e+00, -1.09426600e+00,  3.20072669e+00,  4.48135399e-01,\n",
       "       -4.47532900e-01, -4.29654821e+00,  5.48263294e-01,  5.79521199e+00,\n",
       "       -2.60382033e-01,  1.84226459e+00, -9.92421911e-01])"
      ]
     },
     "execution_count": 46,
     "metadata": {},
     "output_type": "execute_result"
    }
   ],
   "source": [
    "y_scores = sgd_clf.decision_function(survival_prepared)\n",
    "y_scores"
   ]
  },
  {
   "cell_type": "code",
   "execution_count": 47,
   "id": "37ff35bd",
   "metadata": {},
   "outputs": [
    {
     "data": {
      "text/plain": [
       "array([-3.44851116e+00,  3.01333457e+00,  2.22983947e+00,  2.89284994e+00,\n",
       "       -3.19118987e+00, -3.03144587e+00, -2.22675853e+00, -4.94217324e+00,\n",
       "        2.29382514e-01,  2.65504597e+00,  1.26611357e+00,  2.64674147e+00,\n",
       "       -2.85740120e+00, -8.60700188e+00,  2.49661092e+00,  2.13755603e+00,\n",
       "       -5.39595697e+00, -2.51617636e+00,  1.68645981e+00,  2.17964015e+00,\n",
       "       -2.53748828e+00, -2.64908792e+00,  2.47687648e+00, -1.81645156e+00,\n",
       "        1.48619523e-01, -3.36001492e+00, -3.04238662e+00, -2.89728717e+00,\n",
       "        2.18713287e+00, -3.03522620e+00, -2.16247913e+00,  4.01282557e+00,\n",
       "        2.18613771e+00, -3.38448073e+00, -1.87229896e+00, -2.49386408e+00,\n",
       "       -3.04150460e+00, -2.87751212e+00,  1.43939105e+00,  1.99614857e+00,\n",
       "        1.40063268e+00,  2.27560486e+00, -3.03413580e+00,  1.00891722e+00,\n",
       "        2.38834550e+00, -3.03229601e+00, -3.49293036e+00,  2.18739586e+00,\n",
       "       -3.96656922e+00,  1.97570210e+00, -5.39535764e+00, -2.87891267e+00,\n",
       "        2.82941517e+00,  2.28369237e+00, -3.36872128e+00, -1.81376749e+00,\n",
       "        2.83941533e+00, -3.05084710e+00,  8.23328115e-01, -6.95249630e+00,\n",
       "       -2.90624449e+00,  3.64559168e+00, -2.23405135e+00, -5.91749671e+00,\n",
       "       -1.89313319e+00, -4.49985265e+00,  2.66259135e+00, -2.82946470e+00,\n",
       "       -1.72634288e+00, -4.05445548e+00, -2.62631059e+00, -1.83991508e+00,\n",
       "       -1.73299842e+00, -3.45702103e+00, -2.61973540e+00, -2.96727590e+00,\n",
       "       -3.03128398e+00, -3.02961194e+00, -3.75467911e+00,  2.19432860e+00,\n",
       "       -2.88632888e+00, -3.03655024e+00,  2.14668532e+00, -1.69194664e+00,\n",
       "        4.13359286e+00,  9.26669856e-01, -6.04637478e+00, -3.02877317e+00,\n",
       "        7.79701062e+00, -2.93977404e+00, -3.05072938e+00, -2.85279152e+00,\n",
       "       -2.48341806e+00, -5.40409905e+00, -4.74670323e+00, -2.73848756e+00,\n",
       "       -2.36523683e+00,  8.07896127e-02,  1.99146450e+00, -1.80450470e+00,\n",
       "        2.16252364e+00, -2.73829403e+00,  5.84789767e-01, -3.03692830e+00,\n",
       "       -4.05684245e+00, -2.73541760e+00,  2.60874690e+00, -2.73720785e+00,\n",
       "       -3.37394285e+00,  2.23096513e+00, -3.53951906e-01,  2.83819744e+00,\n",
       "       -2.34185319e+00,  2.36354147e+00,  3.05272961e+00, -2.27896833e+00,\n",
       "       -5.45430496e+00, -1.60484816e+00,  4.95370072e+00,  1.82829678e-01,\n",
       "       -5.94796176e-02, -2.71979077e+00, -1.58306773e+00,  3.23539439e+00,\n",
       "       -1.51364236e+00, -1.97895761e+00, -2.72421296e+00, -2.48347808e+00,\n",
       "        7.99636501e-01, -3.83192845e+00, -3.03778120e+00, -2.22677938e+00,\n",
       "        7.72304374e-01,  3.44182301e+00, -1.17772027e+00, -9.94189142e-01,\n",
       "        2.87868081e+00, -3.68910396e-02, -1.90756595e+00,  1.86741210e+00,\n",
       "       -4.06492263e-01,  2.57251997e+00,  2.28914511e+00, -2.16209955e+00,\n",
       "       -7.62140000e-01, -1.92020743e+00, -2.64453851e+00,  5.82208479e-01,\n",
       "       -4.35121752e+00, -2.25609404e+00, -2.84468397e+00,  6.19653451e+00,\n",
       "       -4.45937552e+00, -6.11946591e+00, -2.71577046e+00, -1.72430627e+00,\n",
       "        2.96726980e+00, -2.82203943e+00, -2.67681429e+00, -6.82253364e+00,\n",
       "       -4.89880271e+00,  2.85570431e+00, -2.56952044e+00, -1.96846792e+00,\n",
       "       -3.00034160e+00, -3.93166397e+00,  4.48822180e+00, -4.30469420e+00,\n",
       "        1.03025795e+00, -5.75754703e-01, -2.39899659e+00, -4.16807894e+00,\n",
       "        2.26112379e+00, -5.61843497e-01, -1.90934653e+00, -2.56141605e+00,\n",
       "       -5.65962481e+00,  2.55927662e+00, -4.23824637e-01, -2.29792990e+00,\n",
       "       -8.03853016e+00, -1.81731547e-01, -5.85646232e+00, -1.05195573e+00,\n",
       "        1.34396573e+00,  1.37386813e+00,  2.05515879e+00, -8.50614080e-01,\n",
       "       -4.82184302e+00, -2.19032410e+00,  3.31560871e+00,  7.41635563e-01,\n",
       "        2.43174813e+00, -1.14789982e+00,  4.15131519e+00,  6.43009598e+00,\n",
       "       -1.34209399e+00, -4.00902745e+00,  2.22909954e+00,  4.05402066e+00,\n",
       "       -1.32029522e+00, -1.19208049e+01, -2.01176892e+00, -3.23598026e+00,\n",
       "       -2.73669657e-01,  4.16334055e+00, -2.80546415e+00, -9.73628142e-01,\n",
       "        3.78995659e+00, -2.28042756e-01, -9.39510157e-01,  2.98049255e+00,\n",
       "       -7.24173365e-01, -4.64064125e-01, -2.50760611e+00,  4.68522217e+00,\n",
       "        2.60299245e+00, -2.69001589e+00,  5.16141290e+00, -5.08673131e-01,\n",
       "       -7.74455247e-02, -1.51332733e-01, -3.83558314e+00, -1.37093658e+00,\n",
       "       -2.85511395e-01, -7.07442382e-01,  6.63685267e-01, -5.80454365e-01,\n",
       "        8.06406338e-01, -1.86242788e+00,  3.78922520e+00, -1.48926603e+00,\n",
       "       -3.59034649e+00, -1.62772734e+00,  1.17939354e-01,  2.46818187e+00,\n",
       "       -2.94156383e+00,  3.58052068e+00,  6.49888871e-01, -8.26821440e-01,\n",
       "        1.42176103e+00,  1.43638651e+00, -4.27806559e-01, -7.61699595e-01,\n",
       "       -1.61981817e+00, -2.09833060e+00,  2.78085814e+00,  1.67482827e+00,\n",
       "       -1.94395571e+00, -4.02960656e+00, -1.41171993e+00,  8.99732815e-01,\n",
       "       -1.25528648e+00, -2.44805672e+00,  9.45522406e-01,  1.07330861e-01,\n",
       "        5.59083270e+00,  5.48517923e+00,  1.13708264e+01,  2.17766994e-01,\n",
       "       -1.89404015e+00, -5.30343061e+00, -2.28626807e+00, -8.29538224e-01,\n",
       "        1.61243453e+00, -1.44077662e+00, -4.16273145e+00, -2.24623410e+00,\n",
       "        2.30462931e+00,  5.67597709e+00, -9.59068356e-01, -1.22329598e+00,\n",
       "        1.07055977e+00, -1.27160516e+00,  2.42636045e+00,  6.49602461e-01,\n",
       "        1.41436816e+00, -1.29158126e+00, -4.00247703e+00, -4.60135828e-01,\n",
       "       -2.31570597e+00, -1.92720069e+00, -1.81500647e+00, -4.71805593e-01,\n",
       "       -9.41025131e-01, -1.99258185e+00, -1.63378872e+00, -1.87338443e+00,\n",
       "       -1.83800756e+00,  1.63732453e+00,  2.16492533e+00,  1.66294380e+00,\n",
       "       -1.50116058e+00,  1.60132529e+00, -1.90529098e+00, -9.71591417e-01,\n",
       "       -1.89780902e+00,  9.08090715e-01, -9.98222047e-01,  3.38517661e-01,\n",
       "        1.55700263e+00, -3.03500065e+00, -1.80225401e+00,  2.08320618e+00,\n",
       "       -1.96416625e+00, -2.60545207e+00,  1.86545659e+00,  1.51829452e+00,\n",
       "       -2.02805752e+00,  2.26702642e+00,  2.12113616e+00, -6.37761543e-01,\n",
       "        1.28169644e+00, -1.97680296e+00, -2.41558595e+00,  1.55420886e+00,\n",
       "        1.51980240e+00, -1.73871811e+00,  9.41463904e-01,  8.30954463e-01,\n",
       "       -1.91908226e+00, -1.97855709e+00,  2.03282233e+00,  1.28325512e+00,\n",
       "       -6.74859453e+00,  1.55566799e+00, -2.33230035e+00,  1.95659107e+00,\n",
       "        6.80346866e-01,  2.15267485e+00,  4.32979648e-01, -1.21806569e+00,\n",
       "       -2.35321679e+00, -2.91592462e+00,  1.16449554e+00, -2.01067801e+00,\n",
       "       -1.83074485e+00,  1.49334613e+00, -2.19610767e+00, -1.28054197e+00,\n",
       "       -2.02051352e+00, -1.22982393e+00, -1.49462683e+00, -1.46447441e+00,\n",
       "       -1.58221888e+00,  2.05564387e+00,  1.88507909e+00,  9.40966330e-01,\n",
       "       -2.53065858e+00, -2.18620401e+00, -1.99148160e+00, -1.11547019e+00,\n",
       "       -2.59491356e+00, -2.56267793e+00, -2.03462099e+00, -2.05417879e+00,\n",
       "        5.55711028e+00,  1.88926969e+00,  1.15562169e+00,  1.15406144e+00,\n",
       "       -9.74095147e+00, -2.49757264e+00, -8.41705776e-01, -3.95256154e+00,\n",
       "       -4.42547858e+00, -3.63167398e+00,  4.31791268e+00,  1.10186030e+00,\n",
       "        1.13212429e+00,  7.61872094e+00,  6.70553118e-01, -4.36304143e+00,\n",
       "       -2.90777968e+00,  7.17737570e+00, -2.10946956e+00,  6.72221119e+00,\n",
       "        1.46323321e+00,  8.82971946e+00, -3.22621577e+00, -2.93550567e+00,\n",
       "        1.61476931e+01,  6.18261165e-01, -3.74166600e+00,  4.42959746e+00,\n",
       "       -3.49714139e+00,  2.37252419e+00, -9.21981676e+00,  2.16324258e+00,\n",
       "       -3.51356271e+00,  3.28380532e+00,  1.23277275e+00, -3.07767230e+00,\n",
       "       -6.35625446e+00,  8.90658061e+00, -7.77682783e-01, -3.14627063e+00,\n",
       "        9.07732671e-01, -2.29476068e+00, -1.80925174e+00,  2.62199120e+00,\n",
       "       -4.20625186e+00, -3.38952824e+00,  2.18165583e-01, -4.46494087e+00,\n",
       "        1.63057391e+00, -3.28869436e+00, -4.97459517e+00, -2.82901286e+00,\n",
       "       -3.10546747e+00, -3.45465072e+00, -3.53770776e+00, -3.60266594e+00,\n",
       "        6.83110995e+00, -2.78605984e+00, -4.53988204e+00,  1.07712471e+00,\n",
       "        6.77291750e-01,  5.73294768e-01, -2.12419198e+00,  5.11557020e-01,\n",
       "       -3.55331021e+00, -3.12829879e+00, -3.62005906e+00, -1.30432542e+00,\n",
       "       -4.94034204e+00, -3.60057397e+00,  1.97142791e+00,  3.95529153e+00,\n",
       "       -3.57470149e+00, -3.80735920e+00,  4.86050219e-02,  1.19859966e-01,\n",
       "        1.08906353e+00, -2.93476338e+00, -9.60231241e-01,  7.14763453e+00,\n",
       "       -2.42450002e+00, -3.66189399e+00,  5.48452394e+00, -2.37208059e+00,\n",
       "        5.16403103e-02, -2.98918958e+00, -4.83215291e+00,  1.51387494e+00,\n",
       "       -1.87288352e+00,  1.54238478e+00,  1.43868721e+00,  9.59870752e-01,\n",
       "       -6.97444504e-01,  4.71694800e-01, -5.73672436e+00, -4.28827573e+00,\n",
       "       -3.71073331e-02,  1.06423071e+00, -3.59693592e+00, -1.90796549e+00,\n",
       "        1.12116084e-03,  3.02100430e+00,  7.89859749e-01, -1.87972384e+00,\n",
       "        5.26551422e-01, -2.06010332e+00,  7.64312911e-01, -1.05774197e+00,\n",
       "       -1.87471700e+00, -2.20123506e+00, -6.64626025e-01,  2.78956474e-01,\n",
       "       -1.88049479e+00, -5.66838200e-01, -1.88879477e+00, -2.17353921e+00,\n",
       "       -2.03963698e-01,  1.68103923e+00,  2.93893444e-01,  1.58499723e+00,\n",
       "       -1.00169917e+00, -2.43833386e+00, -1.69890724e+00,  3.03085361e-01,\n",
       "       -4.49206325e+00, -6.65189470e-01, -2.55555615e+00, -9.78350027e-01,\n",
       "        1.83926037e+00, -1.81723618e+00,  3.46386899e+00,  2.70916008e-01,\n",
       "       -1.93745152e+00, -2.31851302e+00, -2.18417395e+00, -1.67316809e+00,\n",
       "        3.77330088e-01,  2.11695561e-01, -1.65942839e+00, -1.76491860e+00,\n",
       "        2.67291200e+00, -1.75388237e+00,  3.53560523e+00, -1.75676730e+00,\n",
       "       -1.52538203e+00,  2.87649656e-01,  6.91048766e-02, -1.75272268e-01,\n",
       "        4.50482598e+00,  2.36346295e+00,  2.79280870e-01,  1.14311597e+00,\n",
       "       -1.62572805e+00, -9.75711538e-01, -1.91255605e+00, -1.87648247e+00,\n",
       "        8.91050837e-01,  2.34558726e+00, -1.76252540e+00,  6.84762524e-01,\n",
       "        1.28234511e+00, -1.59792844e+00,  9.74003264e-01, -2.00311902e+00,\n",
       "        4.19260239e+00, -1.69402914e+00, -1.89118094e+00,  2.49322537e+00,\n",
       "       -1.89118334e+00, -2.26865926e+00,  7.87305462e-01,  4.52285412e+00,\n",
       "       -2.21936698e+00, -1.99430272e+00,  5.73696369e+00, -1.89144628e+00,\n",
       "       -2.71759939e+00,  3.20364894e+00,  2.39619544e-02,  7.02671397e+00,\n",
       "        6.16446133e-01,  4.83091673e+00, -1.76581175e+00,  7.12840049e+00,\n",
       "        5.73596886e+00,  1.37795109e+00,  1.16896786e+00, -2.58901560e+00,\n",
       "       -2.58846846e+00, -3.40596059e+00,  3.14214194e+00, -1.23415991e+00,\n",
       "       -3.45650157e+00,  8.34631180e-01,  3.56675583e+00, -1.07269433e+00,\n",
       "       -2.83305474e+00, -2.19972867e+00,  2.15663644e+00, -3.17084946e+00,\n",
       "        1.74127038e+00,  1.20418020e+00,  3.68630489e+00, -2.44173593e-01,\n",
       "       -2.81591454e+00, -4.08015238e+00, -1.20285352e+00, -2.80820594e+00,\n",
       "        1.54602219e+00, -4.26088554e+00, -1.85202311e+00,  4.83687781e+00,\n",
       "       -2.80049015e+00, -3.21820920e+00, -4.78685365e+00,  3.21267804e-01,\n",
       "       -3.89269132e-01,  1.56448548e+00, -1.51722971e+00, -1.80673398e+00,\n",
       "        2.54429211e+00,  2.80064283e+00,  6.30492327e-01, -3.19612420e+00,\n",
       "        3.43316646e+00,  3.85782274e+00, -3.85580059e+00, -3.11902024e-01,\n",
       "       -2.75983102e+00,  7.76820049e+00, -3.15074167e+00, -2.82146627e+00,\n",
       "       -2.12018850e+00, -2.75150017e+00, -3.49198798e+00,  1.54551370e+00,\n",
       "       -4.75412564e+00,  3.27774876e+00, -3.00569561e+00, -3.65665661e+00,\n",
       "        3.29911336e+00, -4.98255433e+00, -2.73507674e+00, -2.55524471e+00,\n",
       "        2.59974928e+00, -2.72592741e+00,  5.83033061e-01, -4.41028006e+00,\n",
       "       -2.13263923e-01, -4.50308320e+00, -2.92618668e+00,  6.53283413e-01,\n",
       "        4.25994001e+00,  4.83791170e+00,  3.77832974e+00, -2.70740380e+00,\n",
       "        1.39736676e+00, -2.70032201e+00, -3.43605016e+00,  4.34849906e+00,\n",
       "       -3.43757460e+00,  9.33093924e-01,  2.68587970e+00, -8.79029120e-01,\n",
       "       -3.52438700e+00, -1.28782010e-01, -1.07340560e+00, -1.93903247e+00,\n",
       "       -1.90481293e+00, -2.89017589e+00, -4.12961954e+00,  4.94524602e+00,\n",
       "       -2.45587643e+00, -2.66549104e+00,  2.43241965e-01, -5.09215620e+00,\n",
       "        1.09758111e+00,  4.85901207e-01,  1.35007878e+00,  3.58636890e+00,\n",
       "       -9.94104481e-01, -1.51925682e-01,  6.61956993e+00, -1.97064380e+00,\n",
       "       -7.66452083e-01,  4.91716520e+00,  1.50709042e+00, -6.99111685e-01,\n",
       "        1.76508967e+00, -3.53700610e-02, -7.23241759e-01,  7.59387262e-01,\n",
       "       -8.74362887e-01,  2.70278504e+00, -8.64487081e-01,  4.70039381e+00,\n",
       "       -7.30781145e-01,  2.63298080e+00,  2.80869363e+00, -1.68539941e+00,\n",
       "       -8.39023833e-01,  2.34820232e+00,  2.86874882e-01,  2.74770895e+00,\n",
       "       -8.70795659e-01, -1.03145817e+00,  9.41476995e-01, -9.51563057e-01,\n",
       "       -1.75672101e+00, -1.78360140e+00,  2.85665697e-01, -7.92826108e-01,\n",
       "       -1.05117974e+00,  3.80382426e+00,  3.36608401e+00,  2.74568143e-01,\n",
       "       -4.90010266e-01,  2.09892273e-01,  2.14693854e-01, -5.83074199e-01,\n",
       "       -6.91997055e-01,  2.91871297e+00,  6.52089148e+00,  3.99098784e+00,\n",
       "        2.74880295e+00,  1.57899745e+00, -5.82706896e-01, -4.12342080e+00,\n",
       "       -4.11107160e-01,  1.04897449e+00, -3.87741592e+00, -5.40110949e-01,\n",
       "       -5.27820336e-01,  6.67941829e+00,  3.75271980e-01,  4.06878026e+00,\n",
       "       -4.91161826e-01, -6.31952817e-01,  8.52603316e-01, -6.39173771e-02,\n",
       "       -9.49931339e-01,  2.81932634e+00,  1.13925282e+00, -9.03645150e-01,\n",
       "        4.81575029e+00,  1.32075903e+00,  3.87350618e+00, -5.87440014e-01,\n",
       "       -1.69273076e+00,  2.57238100e-01,  6.21994088e-01, -1.05330448e+00,\n",
       "        5.63471938e+00, -2.31246698e+00,  3.66576160e+00,  1.48731210e+00,\n",
       "       -1.71980039e+00, -6.08330774e-01,  1.47092198e-02, -4.31401059e-01,\n",
       "        5.82281314e+00,  1.89385657e+00, -5.45380013e-01, -6.60045081e-01,\n",
       "        4.15316309e+00, -1.46557530e+00, -1.55508203e+00, -2.72792736e+00,\n",
       "       -1.54184583e-01, -1.46289573e+00, -1.99231033e-01,  9.17648051e-01,\n",
       "       -1.34821250e+00,  4.53606152e-01,  6.20053409e+00, -6.19009254e-01,\n",
       "       -1.34239437e+00, -7.42954485e-01, -7.42458538e-01, -1.94838582e+00,\n",
       "        1.90372176e-01,  8.15915933e+00, -2.05681790e+00, -2.05632195e+00,\n",
       "        5.60677251e-02, -3.45675190e-01,  6.95987558e+00, -2.30280141e+00,\n",
       "       -2.27332197e+00, -2.66150563e+00, -1.32469947e+00,  1.73340174e+00,\n",
       "        4.44388797e-01, -2.27396901e+00,  3.44765087e+00, -3.94142223e-02,\n",
       "       -2.38788107e+00, -1.68270953e+00,  1.28916660e+00,  5.59710518e-01,\n",
       "       -2.04967757e+00, -3.91183530e-01, -2.48414678e+00,  3.69107330e+00,\n",
       "       -1.92790788e+00, -3.01252299e+00, -1.47015485e+00,  4.01481287e+00,\n",
       "       -1.16607567e+00,  1.53303761e+00,  2.40488361e-01,  7.54374727e-01,\n",
       "       -2.43990634e+00, -2.32644017e+00, -1.71894954e+00, -3.50787149e+00,\n",
       "       -2.78881190e-01, -2.05144510e+00,  4.24450549e-01, -1.30773459e+00,\n",
       "       -2.04057693e+00,  2.71376981e+00, -2.03980838e+00,  5.51395612e+00,\n",
       "        2.03485878e+00,  3.65985493e+00,  3.56369947e-03, -1.81338582e+00,\n",
       "       -1.82911497e+00, -1.82504556e+00,  1.67592874e+00, -2.62427897e+00,\n",
       "        1.17738854e-01, -3.60569042e-01, -2.03363367e+00,  3.14220731e-02,\n",
       "       -2.82118820e+00,  9.47850149e-02, -1.80904334e+00, -1.88554700e+00,\n",
       "        1.45384597e+00,  9.05180535e-01, -2.18563903e+00,  7.27344349e-01,\n",
       "       -1.51639811e+00,  1.88371549e+00, -2.62403828e-01, -1.39825522e+00,\n",
       "       -3.55061716e+00, -2.24574926e+00, -1.25389058e+00,  1.55774339e+00,\n",
       "       -3.59150771e+00,  1.60561297e+00, -3.50931278e+00, -4.16434885e+00,\n",
       "       -3.39521187e+00,  2.18740425e+00, -3.74978200e+00, -2.47078703e+00,\n",
       "        1.28172840e+00, -2.78129448e+00, -4.40653677e+00, -2.29417131e+00,\n",
       "        1.42275166e+00, -3.58135679e+00, -3.00195957e+00,  1.83930447e+00,\n",
       "       -3.03634389e+00, -3.64293250e+00, -3.58435649e+00, -8.65358719e-02,\n",
       "       -3.64774384e+00,  4.87103035e-01,  1.28836169e+00, -1.26879887e+00,\n",
       "       -3.65609759e+00, -3.39843053e+00, -3.14098231e+00,  2.05414724e+00,\n",
       "       -3.29969844e+00, -3.66474241e+00, -3.81457632e+00, -2.48082380e+00,\n",
       "       -3.25655018e+00, -2.46759919e+00,  2.05871421e+00, -4.01477143e+00,\n",
       "       -3.10806734e+00, -4.40552158e+00, -5.16950901e+00, -4.04659162e+00,\n",
       "       -2.30223574e+00,  1.83123717e+00, -2.42772365e+00, -6.07335619e+00,\n",
       "        2.33007294e+00,  3.54507384e+00,  3.35591390e-01,  2.23964609e+00,\n",
       "        1.80281168e+00, -3.71003336e+00,  3.48054242e+00, -3.70819237e+00,\n",
       "       -5.15161000e+00, -3.15226123e+00,  1.08213334e+00, -5.55037379e-01,\n",
       "       -2.92305641e+00,  7.90486523e-01,  1.17764371e+00, -2.66475208e+00,\n",
       "       -3.72278419e+00, -2.09618848e+00, -3.62506882e+00,  1.53318055e+00,\n",
       "       -2.83349213e+00, -4.71660830e+00,  1.12282664e+00,  1.58117001e+00,\n",
       "       -3.32366420e+00, -3.27620833e+00, -3.74403761e+00,  1.47768028e+00,\n",
       "        2.43004589e+00, -4.00865916e+00,  1.20931724e+00, -3.16983530e+00,\n",
       "       -3.60134717e+00,  4.20918164e+00, -3.12080396e+00,  2.54010151e+00,\n",
       "        2.05965814e+00, -2.47339595e+00, -3.97443549e+00])"
      ]
     },
     "execution_count": 47,
     "metadata": {},
     "output_type": "execute_result"
    }
   ],
   "source": [
    "y_scores = cross_val_predict(sgd_clf, survival_prepared, survival_labels, cv=10,\n",
    "method=\"decision_function\")\n",
    "y_scores"
   ]
  },
  {
   "cell_type": "code",
   "execution_count": 48,
   "id": "42ff718d",
   "metadata": {},
   "outputs": [],
   "source": [
    "from sklearn.metrics import precision_recall_curve\n",
    "precisions, recalls, thresholds = precision_recall_curve(survival_labels, y_scores)"
   ]
  },
  {
   "cell_type": "code",
   "execution_count": 49,
   "id": "5f9117cb",
   "metadata": {},
   "outputs": [],
   "source": [
    "def plot_precision_recall_vs_threshold(precisions, recalls, thresholds):\n",
    "    plt.plot(thresholds, precisions[:-1], \"b--\", label=\"Precision\")\n",
    "    plt.plot(thresholds, recalls[:-1], \"g-\", label=\"Recall\")\n",
    "    plt.xlabel(\"Threshold\")\n",
    "    plt.legend(loc=\"upper left\")\n",
    "    plt.ylim([0, 1])\n"
   ]
  },
  {
   "cell_type": "code",
   "execution_count": 50,
   "id": "9894f7be",
   "metadata": {},
   "outputs": [
    {
     "data": {
      "image/png": "[encoded data removed]",
      "text/plain": [
       "<Figure size 432x288 with 1 Axes>"
      ]
     },
     "metadata": {
      "needs_background": "light"
     },
     "output_type": "display_data"
    }
   ],
   "source": [
    "plot_precision_recall_vs_threshold(precisions, recalls, thresholds)\n",
    "plt.show()"
   ]
  },
  {
   "cell_type": "code",
   "execution_count": 51,
   "id": "89a17a7e",
   "metadata": {},
   "outputs": [
    {
     "data": {
      "text/plain": [
       "0.8260869565217391"
      ]
     },
     "execution_count": 51,
     "metadata": {},
     "output_type": "execute_result"
    }
   ],
   "source": [
    "y_train_pred_80 = (y_scores > 3)\n",
    "precision_score(survival_labels, y_train_pred_80)"
   ]
  },
  {
   "cell_type": "code",
   "execution_count": 52,
   "id": "15c65448",
   "metadata": {},
   "outputs": [
    {
     "data": {
      "text/plain": [
       "0.2222222222222222"
      ]
     },
     "execution_count": 52,
     "metadata": {},
     "output_type": "execute_result"
    }
   ],
   "source": [
    "recall_score(survival_labels, y_train_pred_80)"
   ]
  },
  {
   "cell_type": "code",
   "execution_count": 53,
   "id": "33825fc8",
   "metadata": {},
   "outputs": [
    {
     "data": {
      "text/plain": [
       "0.8047337278106509"
      ]
     },
     "execution_count": 53,
     "metadata": {},
     "output_type": "execute_result"
    }
   ],
   "source": [
    "y_train_pred_2 = (y_scores > 2)\n",
    "precision_score(survival_labels, y_train_pred_2)"
   ]
  },
  {
   "cell_type": "code",
   "execution_count": 54,
   "id": "89af496f",
   "metadata": {},
   "outputs": [
    {
     "data": {
      "text/plain": [
       "0.39766081871345027"
      ]
     },
     "execution_count": 54,
     "metadata": {},
     "output_type": "execute_result"
    }
   ],
   "source": [
    "recall_score(survival_labels, y_train_pred_2)"
   ]
  },
  {
   "cell_type": "code",
   "execution_count": 55,
   "id": "9ed5d785",
   "metadata": {},
   "outputs": [
    {
     "data": {
      "text/plain": [
       "0.7662835249042146"
      ]
     },
     "execution_count": 55,
     "metadata": {},
     "output_type": "execute_result"
    }
   ],
   "source": [
    "y_train_pred_1 = (y_scores > 1)\n",
    "precision_score(survival_labels, y_train_pred_1)"
   ]
  },
  {
   "cell_type": "code",
   "execution_count": 56,
   "id": "32810113",
   "metadata": {},
   "outputs": [
    {
     "data": {
      "text/plain": [
       "0.5847953216374269"
      ]
     },
     "execution_count": 56,
     "metadata": {},
     "output_type": "execute_result"
    }
   ],
   "source": [
    "recall_score(survival_labels, y_train_pred_1)"
   ]
  },
  {
   "cell_type": "code",
   "execution_count": 57,
   "id": "40a679ce",
   "metadata": {},
   "outputs": [],
   "source": [
    "from sklearn.metrics import roc_curve\n",
    "fpr, tpr, thresholds = roc_curve(survival_labels, y_scores)\n"
   ]
  },
  {
   "cell_type": "code",
   "execution_count": 58,
   "id": "ac405af7",
   "metadata": {},
   "outputs": [],
   "source": [
    "def plot_roc_curve(fpr, tpr, label=None):\n",
    "    plt.plot(fpr, tpr, linewidth=2, label=label)\n",
    "    plt.plot([0, 1], [0, 1], 'k--')\n",
    "    plt.axis([0, 1, 0, 1])\n",
    "    plt.xlabel('False Positive Rate')\n",
    "    plt.ylabel('True Positive Rate')\n"
   ]
  },
  {
   "cell_type": "code",
   "execution_count": 59,
   "id": "229ebd86",
   "metadata": {},
   "outputs": [
    {
     "data": {
      "image/png": "[encoded data removed]",
      "text/plain": [
       "<Figure size 432x288 with 1 Axes>"
      ]
     },
     "metadata": {
      "needs_background": "light"
     },
     "output_type": "display_data"
    }
   ],
   "source": [
    "plot_roc_curve(fpr, tpr)\n",
    "plt.show()"
   ]
  },
  {
   "cell_type": "code",
   "execution_count": 60,
   "id": "8813cc8d",
   "metadata": {},
   "outputs": [
    {
     "data": {
      "text/plain": [
       "0.8130199512137966"
      ]
     },
     "execution_count": 60,
     "metadata": {},
     "output_type": "execute_result"
    }
   ],
   "source": [
    "from sklearn.metrics import roc_auc_score\n",
    "roc_auc_score(survival_labels, y_scores)"
   ]
  },
  {
   "cell_type": "code",
   "execution_count": null,
   "id": "3dcf4f08",
   "metadata": {},
   "outputs": [],
   "source": []
  },
  {
   "cell_type": "code",
   "execution_count": 61,
   "id": "7d0cb360",
   "metadata": {},
   "outputs": [],
   "source": [
    "def display_scores(scores):\n",
    "    print(\"Scores:\", scores)\n",
    "    print(\"Mean:\", scores.mean())\n",
    "    print(\"Standard deviation:\", scores.std())\n",
    "\n"
   ]
  },
  {
   "cell_type": "code",
   "execution_count": 62,
   "id": "eebd941d",
   "metadata": {},
   "outputs": [],
   "source": [
    "from sklearn.ensemble import RandomForestClassifier\n",
    "from sklearn.model_selection import RepeatedStratifiedKFold\n",
    "from sklearn.model_selection import GridSearchCV"
   ]
  },
  {
   "cell_type": "code",
   "execution_count": 63,
   "id": "8a2f50ef",
   "metadata": {},
   "outputs": [
    {
     "data": {
      "text/plain": [
       "RandomForestClassifier(n_estimators=10, random_state=42)"
      ]
     },
     "execution_count": 63,
     "metadata": {},
     "output_type": "execute_result"
    }
   ],
   "source": [
    "\n",
    "\n",
    "forest_clf = RandomForestClassifier(n_estimators=10, random_state=42)\n",
    "forest_clf.fit(survival_prepared, survival_labels)"
   ]
  },
  {
   "cell_type": "code",
   "execution_count": 64,
   "id": "97dc6d76",
   "metadata": {},
   "outputs": [
    {
     "name": "stdout",
     "output_type": "stream",
     "text": [
      "[0.77777778 0.82022472 0.75280899 0.82022472 0.86516854 0.83146067\n",
      " 0.83146067 0.80898876 0.84269663 0.79775281]\n",
      "Mean: 0.815\n"
     ]
    }
   ],
   "source": [
    "from sklearn.model_selection import cross_val_score\n",
    "\n",
    "forest_scores = cross_val_score(forest_clf, survival_prepared, survival_labels,\n",
    "                                scoring=\"accuracy\", cv=10)\n",
    "\n",
    "\n",
    "print(forest_scores)\n",
    "print(\"Mean: %.3f\" % np.mean(forest_scores))"
   ]
  },
  {
   "cell_type": "code",
   "execution_count": 65,
   "id": "aac59834",
   "metadata": {},
   "outputs": [
    {
     "name": "stdout",
     "output_type": "stream",
     "text": [
      "{'max_features': 'auto', 'n_estimators': 700}\n",
      "0.822 (+/-0.076) for {'max_features': 'auto', 'n_estimators': 100}\n",
      "0.826 (+/-0.076) for {'max_features': 'auto', 'n_estimators': 200}\n",
      "0.825 (+/-0.078) for {'max_features': 'auto', 'n_estimators': 500}\n",
      "0.826 (+/-0.078) for {'max_features': 'auto', 'n_estimators': 700}\n"
     ]
    }
   ],
   "source": [
    "param_grid = { \n",
    "    'n_estimators': [100, 200, 500, 700],\n",
    "#    'max_features': ['auto', 'sqrt', 'log2']\n",
    "    'max_features': ['auto']\n",
    "}\n",
    "\n",
    "cv = RepeatedStratifiedKFold(n_splits=10, n_repeats=3, random_state=1)\n",
    "CV_rfc = GridSearchCV(estimator=forest_clf, param_grid=param_grid, cv= cv, n_jobs=2)\n",
    "CV_rfc.fit(survival_prepared, survival_labels)\n",
    "print(CV_rfc.best_params_)\n",
    "\n",
    "means = CV_rfc.cv_results_['mean_test_score']\n",
    "stds = CV_rfc.cv_results_['std_test_score']\n",
    "for mean, std, params in zip(means, stds, CV_rfc.cv_results_['params']):\n",
    "    print(\"%0.3f (+/-%0.03f) for %r\"% (mean, std * 2, params))"
   ]
  },
  {
   "cell_type": "code",
   "execution_count": null,
   "id": "bf675e38",
   "metadata": {},
   "outputs": [],
   "source": []
  },
  {
   "cell_type": "code",
   "execution_count": 66,
   "id": "f5646e1b",
   "metadata": {},
   "outputs": [
    {
     "data": {
      "text/plain": [
       "array([[0.8, 0.2],\n",
       "       [0.1, 0.9],\n",
       "       [0.5, 0.5],\n",
       "       ...,\n",
       "       [0.8, 0.2],\n",
       "       [0.7, 0.3],\n",
       "       [0.9, 0.1]])"
      ]
     },
     "execution_count": 66,
     "metadata": {},
     "output_type": "execute_result"
    }
   ],
   "source": [
    "from sklearn.ensemble import RandomForestClassifier\n",
    "\n",
    "\n",
    "y_probas_forest = cross_val_predict(forest_clf, survival_prepared, survival_labels, cv=10,\n",
    "method=\"predict_proba\")\n",
    "y_probas_forest"
   ]
  },
  {
   "cell_type": "code",
   "execution_count": 67,
   "id": "0d8ff9f5",
   "metadata": {},
   "outputs": [],
   "source": [
    "y_scores_forest = y_probas_forest[:, 1]\n",
    "fpr_forest, tpr_forest, thresholds_forest = roc_curve(survival_labels,y_scores_forest)"
   ]
  },
  {
   "cell_type": "code",
   "execution_count": 68,
   "id": "dd23e5a8",
   "metadata": {},
   "outputs": [
    {
     "data": {
      "image/png": "[encoded data removed]",
      "text/plain": [
       "<Figure size 432x288 with 1 Axes>"
      ]
     },
     "metadata": {
      "needs_background": "light"
     },
     "output_type": "display_data"
    }
   ],
   "source": [
    "plt.plot(fpr, tpr, \"b:\", label=\"SGD\")\n",
    "plot_roc_curve(fpr_forest, tpr_forest, \"Random Forest\")\n",
    "plt.legend(loc=\"lower right\")\n",
    "plt.show()"
   ]
  },
  {
   "cell_type": "code",
   "execution_count": 69,
   "id": "9ca7bfe4",
   "metadata": {},
   "outputs": [
    {
     "data": {
      "text/plain": [
       "0.8366168152621993"
      ]
     },
     "execution_count": 69,
     "metadata": {},
     "output_type": "execute_result"
    }
   ],
   "source": [
    "roc_auc_score(survival_labels, y_scores_forest)"
   ]
  },
  {
   "cell_type": "code",
   "execution_count": null,
   "id": "2d66ae1a",
   "metadata": {},
   "outputs": [],
   "source": []
  },
  {
   "cell_type": "code",
   "execution_count": 70,
   "id": "b3e5d148",
   "metadata": {},
   "outputs": [
    {
     "name": "stdout",
     "output_type": "stream",
     "text": [
      "Best parameters set found on development set:\n",
      "\n",
      "{'C': 1000, 'gamma': 0.001, 'kernel': 'rbf'}\n",
      "\n",
      "0.684 (+/-0.072) for {'C': 1, 'gamma': 0.001, 'kernel': 'rbf'}\n",
      "0.616 (+/-0.005) for {'C': 1, 'gamma': 0.0001, 'kernel': 'rbf'}\n",
      "0.787 (+/-0.037) for {'C': 10, 'gamma': 0.001, 'kernel': 'rbf'}\n",
      "0.688 (+/-0.068) for {'C': 10, 'gamma': 0.0001, 'kernel': 'rbf'}\n",
      "0.790 (+/-0.040) for {'C': 100, 'gamma': 0.001, 'kernel': 'rbf'}\n",
      "0.787 (+/-0.037) for {'C': 100, 'gamma': 0.0001, 'kernel': 'rbf'}\n",
      "0.804 (+/-0.034) for {'C': 1000, 'gamma': 0.001, 'kernel': 'rbf'}\n",
      "0.788 (+/-0.040) for {'C': 1000, 'gamma': 0.0001, 'kernel': 'rbf'}\n"
     ]
    }
   ],
   "source": [
    "from sklearn.svm import SVC\n",
    "\n",
    "\n",
    "# Set the parameters by cross-validation\n",
    "#tuned_parameters = [{'kernel': ['rbf'], 'gamma': [1e-3, 1e-4], 'C': [1, 10, 100, 1000]}, {'kernel': ['linear'], 'C': [1, 10, 100, 1000]}]\n",
    "# Reducing the params as it's taking long time\n",
    "tuned_parameters = [{'kernel': ['rbf'], 'gamma': [1e-3, 1e-4], 'C': [1, 10, 100, 1000]}]\n",
    "\n",
    "clf = GridSearchCV(\n",
    "    SVC(), tuned_parameters, scoring=\"accuracy\"\n",
    ")\n",
    "clf.fit(survival_prepared, survival_labels)\n",
    "\n",
    "print(\"Best parameters set found on development set:\")\n",
    "print()\n",
    "print(clf.best_params_)\n",
    "print()\n",
    "\n",
    "\n",
    "means = clf.cv_results_['mean_test_score']\n",
    "stds = clf.cv_results_['std_test_score']\n",
    "for mean, std, params in zip(means, stds, clf.cv_results_['params']):\n",
    "    print(\"%0.3f (+/-%0.03f) for %r\"% (mean, std * 2, params))"
   ]
  },
  {
   "cell_type": "code",
   "execution_count": null,
   "id": "473c28b8",
   "metadata": {},
   "outputs": [],
   "source": []
  },
  {
   "cell_type": "code",
   "execution_count": 71,
   "id": "8a2f0ae3",
   "metadata": {},
   "outputs": [],
   "source": [
    "\n",
    "from sklearn.ensemble import GradientBoostingClassifier"
   ]
  },
  {
   "cell_type": "code",
   "execution_count": 72,
   "id": "818bef78",
   "metadata": {},
   "outputs": [
    {
     "name": "stdout",
     "output_type": "stream",
     "text": [
      "[0.81111111 0.83146067 0.78651685 0.88764045 0.7752809  0.80898876\n",
      " 0.7752809  0.83146067 0.87640449 0.84269663 0.83333333 0.82022472\n",
      " 0.82022472 0.84269663 0.83146067 0.80898876 0.78651685 0.86516854\n",
      " 0.7752809  0.82022472 0.83333333 0.80898876 0.82022472 0.86516854\n",
      " 0.84269663 0.85393258 0.79775281 0.83146067 0.88764045 0.78651685]\n",
      "Mean Accuracy: 0.825 (0.031)\n"
     ]
    }
   ],
   "source": [
    "model = GradientBoostingClassifier()\n",
    "# define the evaluation method\n",
    "cv = RepeatedStratifiedKFold(n_splits=10, n_repeats=3, random_state=1)\n",
    "# evaluate the model on the dataset\n",
    "n_scores = cross_val_score(model, survival_prepared, survival_labels, scoring='accuracy', cv=cv, n_jobs=-1)\n",
    "# report performance\n",
    "print(n_scores)\n",
    "print('Mean Accuracy: %.3f (%.3f)' % (np.mean(n_scores), np.std(n_scores)))"
   ]
  },
  {
   "cell_type": "code",
   "execution_count": null,
   "id": "844a9cd2",
   "metadata": {},
   "outputs": [],
   "source": []
  },
  {
   "cell_type": "markdown",
   "id": "a5ad9281",
   "metadata": {},
   "source": [
    "Tune the Gradient Boosting classifier"
   ]
  },
  {
   "cell_type": "code",
   "execution_count": 73,
   "id": "5dccea9f",
   "metadata": {},
   "outputs": [
    {
     "name": "stdout",
     "output_type": "stream",
     "text": [
      "Best: 0.823795 using {'learning_rate': 0.01, 'max_depth': 3, 'n_estimators': 500}\n",
      "0.616167 (0.003750) with: {'learning_rate': 0.01, 'max_depth': 3, 'n_estimators': 10}\n",
      "0.811823 (0.033774) with: {'learning_rate': 0.01, 'max_depth': 3, 'n_estimators': 100}\n",
      "0.823795 (0.035160) with: {'learning_rate': 0.01, 'max_depth': 3, 'n_estimators': 500}\n",
      "0.616167 (0.003750) with: {'learning_rate': 0.01, 'max_depth': 7, 'n_estimators': 10}\n",
      "0.813321 (0.037609) with: {'learning_rate': 0.01, 'max_depth': 7, 'n_estimators': 100}\n",
      "0.820033 (0.037469) with: {'learning_rate': 0.01, 'max_depth': 7, 'n_estimators': 500}\n"
     ]
    }
   ],
   "source": [
    "#Tune the GBM classifier\n",
    "model_gbc = GradientBoostingClassifier()\n",
    "# define the grid of values to search\n",
    "grid = dict()\n",
    "#grid['n_estimators'] = [10, 50, 100, 500]\n",
    "grid['n_estimators'] = [10, 100, 500]\n",
    "grid['learning_rate'] = [0.01]\n",
    "#grid['learning_rate'] = [0.0001, 0.001, 0.01, 0.1, 1.0]\n",
    "#grid['subsample'] = [0.5, 0.7, 1.0]\n",
    "grid['max_depth'] = [3, 7]\n",
    "# define the evaluation procedure\n",
    "cv = RepeatedStratifiedKFold(n_splits=10, n_repeats=3, random_state=1)\n",
    "# define the grid search procedure\n",
    "grid_search = GridSearchCV(estimator=model_gbc, param_grid=grid, n_jobs=-1, cv=cv, scoring='accuracy')\n",
    "# execute the grid search\n",
    "grid_result = grid_search.fit(survival_prepared, survival_labels)\n",
    "# summarize the best score and configuration\n",
    "print(\"Best: %f using %s\" % (grid_result.best_score_, grid_result.best_params_))\n",
    "# summarize all scores that were evaluated\n",
    "means = grid_result.cv_results_['mean_test_score']\n",
    "stds = grid_result.cv_results_['std_test_score']\n",
    "params = grid_result.cv_results_['params']\n",
    "for mean, stdev, param in zip(means, stds, params):\n",
    "    print(\"%f (%f) with: %r\" % (mean, stdev, param))"
   ]
  },
  {
   "cell_type": "markdown",
   "id": "9d8158bb",
   "metadata": {},
   "source": [
    "histogram based Gradient Boosting classifier"
   ]
  },
  {
   "cell_type": "code",
   "execution_count": 74,
   "id": "ff2467d0",
   "metadata": {},
   "outputs": [
    {
     "name": "stdout",
     "output_type": "stream",
     "text": [
      "Accuracy: 0.819 (0.032)\n"
     ]
    }
   ],
   "source": [
    "from sklearn.experimental import enable_hist_gradient_boosting\n",
    "from sklearn.ensemble import HistGradientBoostingClassifier\n",
    "\n",
    "# define the model\n",
    "model_histgbc = HistGradientBoostingClassifier(max_bins=255, max_iter=100)\n",
    "# define the evaluation procedure\n",
    "cv = RepeatedStratifiedKFold(n_splits=10, n_repeats=3, random_state=1)\n",
    "# evaluate the model and collect the scores\n",
    "n_scores = cross_val_score(model_histgbc, survival_prepared, survival_labels, scoring='accuracy', cv=cv, n_jobs=-1)\n",
    "# report performance\n",
    "print('Accuracy: %.3f (%.3f)' % (np.mean(n_scores), np.std(n_scores)))"
   ]
  },
  {
   "cell_type": "markdown",
   "id": "efce25ce",
   "metadata": {},
   "source": [
    "Tune histogram based GBM"
   ]
  },
  {
   "cell_type": "code",
   "execution_count": 75,
   "id": "ecd643bc",
   "metadata": {},
   "outputs": [],
   "source": [
    "# get a list of models to evaluate\n",
    "def get_models():\n",
    "\tmodels = dict()\n",
    "\tfor i in [10, 50, 100, 150, 200, 255]:\n",
    "\t\tmodels[str(i)] = HistGradientBoostingClassifier(max_bins=i, max_iter=100)\n",
    "\treturn models"
   ]
  },
  {
   "cell_type": "code",
   "execution_count": 76,
   "id": "57768892",
   "metadata": {},
   "outputs": [],
   "source": [
    "# evaluate a give model using cross-validation\n",
    "def evaluate_model(model, X, y):\n",
    "\t# define the evaluation procedure\n",
    "\tcv = RepeatedStratifiedKFold(n_splits=10, n_repeats=3, random_state=1)\n",
    "\t# evaluate the model and collect the scores\n",
    "\tscores = cross_val_score(model, X, y, scoring='accuracy', cv=cv, n_jobs=-1)\n",
    "\treturn scores"
   ]
  },
  {
   "cell_type": "code",
   "execution_count": 77,
   "id": "6f92d947",
   "metadata": {},
   "outputs": [
    {
     "name": "stdout",
     "output_type": "stream",
     "text": [
      ">10 0.813 (0.044)\n",
      ">50 0.811 (0.032)\n",
      ">100 0.814 (0.033)\n",
      ">150 0.809 (0.035)\n",
      ">200 0.814 (0.035)\n",
      ">255 0.819 (0.032)\n"
     ]
    },
    {
     "data": {
      "image/png": "[encoded data removed]",
      "text/plain": [
       "<Figure size 432x288 with 1 Axes>"
      ]
     },
     "metadata": {
      "needs_background": "light"
     },
     "output_type": "display_data"
    }
   ],
   "source": [
    "# get the models to evaluate\n",
    "models = get_models()\n",
    "# evaluate the models and store results\n",
    "results, names = list(), list()\n",
    "for name, model in models.items():\n",
    "\t# evaluate the model and collect the scores\n",
    "\tscores = evaluate_model(model, survival_prepared, survival_labels)\n",
    "\t# stores the results\n",
    "\tresults.append(scores)\n",
    "\tnames.append(name)\n",
    "\t# report performance along the way\n",
    "\tprint('>%s %.3f (%.3f)' % (name, np.mean(scores), np.std(scores)))\n",
    "# plot model performance for comparison\n",
    "plt.boxplot(results, labels=names, showmeans=True)\n",
    "plt.show()"
   ]
  },
  {
   "cell_type": "code",
   "execution_count": 78,
   "id": "70421be6",
   "metadata": {},
   "outputs": [
    {
     "name": "stdout",
     "output_type": "stream",
     "text": [
      "Best: 0.826417 using {'learning_rate': 0.2, 'max_bins': 100, 'max_leaf_nodes': 4}\n",
      "0.795372 (0.037143) with: {'learning_rate': 0.05, 'max_bins': 10, 'max_leaf_nodes': 3}\n",
      "0.816687 (0.041249) with: {'learning_rate': 0.05, 'max_bins': 10, 'max_leaf_nodes': 4}\n",
      "0.813325 (0.041940) with: {'learning_rate': 0.05, 'max_bins': 10, 'max_leaf_nodes': 5}\n",
      "0.817079 (0.038058) with: {'learning_rate': 0.05, 'max_bins': 50, 'max_leaf_nodes': 3}\n",
      "0.823421 (0.034548) with: {'learning_rate': 0.05, 'max_bins': 50, 'max_leaf_nodes': 4}\n",
      "0.822305 (0.036769) with: {'learning_rate': 0.05, 'max_bins': 50, 'max_leaf_nodes': 5}\n",
      "0.808094 (0.033021) with: {'learning_rate': 0.05, 'max_bins': 100, 'max_leaf_nodes': 3}\n",
      "0.817815 (0.040011) with: {'learning_rate': 0.05, 'max_bins': 100, 'max_leaf_nodes': 4}\n",
      "0.817066 (0.036077) with: {'learning_rate': 0.05, 'max_bins': 100, 'max_leaf_nodes': 5}\n",
      "0.810712 (0.033585) with: {'learning_rate': 0.05, 'max_bins': 150, 'max_leaf_nodes': 3}\n",
      "0.821186 (0.039809) with: {'learning_rate': 0.05, 'max_bins': 150, 'max_leaf_nodes': 4}\n",
      "0.823429 (0.035922) with: {'learning_rate': 0.05, 'max_bins': 150, 'max_leaf_nodes': 5}\n",
      "0.810703 (0.031712) with: {'learning_rate': 0.05, 'max_bins': 200, 'max_leaf_nodes': 3}\n",
      "0.820437 (0.039295) with: {'learning_rate': 0.05, 'max_bins': 200, 'max_leaf_nodes': 4}\n",
      "0.820816 (0.036539) with: {'learning_rate': 0.05, 'max_bins': 200, 'max_leaf_nodes': 5}\n",
      "0.809588 (0.031890) with: {'learning_rate': 0.05, 'max_bins': 250, 'max_leaf_nodes': 3}\n",
      "0.820429 (0.038796) with: {'learning_rate': 0.05, 'max_bins': 250, 'max_leaf_nodes': 4}\n",
      "0.818951 (0.036628) with: {'learning_rate': 0.05, 'max_bins': 250, 'max_leaf_nodes': 5}\n",
      "0.803233 (0.044829) with: {'learning_rate': 0.1, 'max_bins': 10, 'max_leaf_nodes': 3}\n",
      "0.809588 (0.040487) with: {'learning_rate': 0.1, 'max_bins': 10, 'max_leaf_nodes': 4}\n",
      "0.804353 (0.042102) with: {'learning_rate': 0.1, 'max_bins': 10, 'max_leaf_nodes': 5}\n",
      "0.820071 (0.035475) with: {'learning_rate': 0.1, 'max_bins': 50, 'max_leaf_nodes': 3}\n",
      "0.820058 (0.035179) with: {'learning_rate': 0.1, 'max_bins': 50, 'max_leaf_nodes': 4}\n",
      "0.820058 (0.038155) with: {'learning_rate': 0.1, 'max_bins': 50, 'max_leaf_nodes': 5}\n",
      "0.821561 (0.038780) with: {'learning_rate': 0.1, 'max_bins': 100, 'max_leaf_nodes': 3}\n",
      "0.820816 (0.038090) with: {'learning_rate': 0.1, 'max_bins': 100, 'max_leaf_nodes': 4}\n",
      "0.821540 (0.036654) with: {'learning_rate': 0.1, 'max_bins': 100, 'max_leaf_nodes': 5}\n",
      "0.823799 (0.037915) with: {'learning_rate': 0.1, 'max_bins': 150, 'max_leaf_nodes': 3}\n",
      "0.819688 (0.037382) with: {'learning_rate': 0.1, 'max_bins': 150, 'max_leaf_nodes': 4}\n",
      "0.821182 (0.034839) with: {'learning_rate': 0.1, 'max_bins': 150, 'max_leaf_nodes': 5}\n",
      "0.821952 (0.037832) with: {'learning_rate': 0.1, 'max_bins': 200, 'max_leaf_nodes': 3}\n",
      "0.816338 (0.038336) with: {'learning_rate': 0.1, 'max_bins': 200, 'max_leaf_nodes': 4}\n",
      "0.820058 (0.035777) with: {'learning_rate': 0.1, 'max_bins': 200, 'max_leaf_nodes': 5}\n",
      "0.822310 (0.038097) with: {'learning_rate': 0.1, 'max_bins': 250, 'max_leaf_nodes': 3}\n",
      "0.819696 (0.035035) with: {'learning_rate': 0.1, 'max_bins': 250, 'max_leaf_nodes': 4}\n",
      "0.823063 (0.032395) with: {'learning_rate': 0.1, 'max_bins': 250, 'max_leaf_nodes': 5}\n",
      "0.805081 (0.043088) with: {'learning_rate': 0.2, 'max_bins': 10, 'max_leaf_nodes': 3}\n",
      "0.807328 (0.045877) with: {'learning_rate': 0.2, 'max_bins': 10, 'max_leaf_nodes': 4}\n",
      "0.806588 (0.051266) with: {'learning_rate': 0.2, 'max_bins': 10, 'max_leaf_nodes': 5}\n",
      "0.817437 (0.037119) with: {'learning_rate': 0.2, 'max_bins': 50, 'max_leaf_nodes': 3}\n",
      "0.822672 (0.036832) with: {'learning_rate': 0.2, 'max_bins': 50, 'max_leaf_nodes': 4}\n",
      "0.822667 (0.036229) with: {'learning_rate': 0.2, 'max_bins': 50, 'max_leaf_nodes': 5}\n",
      "0.817811 (0.035920) with: {'learning_rate': 0.2, 'max_bins': 100, 'max_leaf_nodes': 3}\n",
      "0.826417 (0.037401) with: {'learning_rate': 0.2, 'max_bins': 100, 'max_leaf_nodes': 4}\n",
      "0.822659 (0.036668) with: {'learning_rate': 0.2, 'max_bins': 100, 'max_leaf_nodes': 5}\n",
      "0.821182 (0.035915) with: {'learning_rate': 0.2, 'max_bins': 150, 'max_leaf_nodes': 3}\n",
      "0.817045 (0.034260) with: {'learning_rate': 0.2, 'max_bins': 150, 'max_leaf_nodes': 4}\n",
      "0.825643 (0.035213) with: {'learning_rate': 0.2, 'max_bins': 150, 'max_leaf_nodes': 5}\n",
      "0.819322 (0.036605) with: {'learning_rate': 0.2, 'max_bins': 200, 'max_leaf_nodes': 3}\n",
      "0.821548 (0.030994) with: {'learning_rate': 0.2, 'max_bins': 200, 'max_leaf_nodes': 4}\n",
      "0.818918 (0.031647) with: {'learning_rate': 0.2, 'max_bins': 200, 'max_leaf_nodes': 5}\n",
      "0.820795 (0.037663) with: {'learning_rate': 0.2, 'max_bins': 250, 'max_leaf_nodes': 3}\n",
      "0.820811 (0.031335) with: {'learning_rate': 0.2, 'max_bins': 250, 'max_leaf_nodes': 4}\n",
      "0.824915 (0.029367) with: {'learning_rate': 0.2, 'max_bins': 250, 'max_leaf_nodes': 5}\n"
     ]
    }
   ],
   "source": [
    "model = HistGradientBoostingClassifier(random_state=42)\n",
    "param_grid = {\n",
    "    'learning_rate': ( .05, 0.1,.2),\n",
    "    'max_bins': (10, 50, 100, 150, 200, 250),\n",
    "    'max_leaf_nodes': (3, 4, 5)}\n",
    "cv = RepeatedStratifiedKFold(n_splits=10, n_repeats=3, random_state=1)\n",
    "model_grid_search = GridSearchCV(model, param_grid=param_grid,\n",
    "                                 n_jobs=2, cv=cv)\n",
    "model_grid_search.fit(survival_prepared, survival_labels)\n",
    "# summarize the best score and configuration\n",
    "print(\"Best: %f using %s\" % (model_grid_search.best_score_, model_grid_search.best_params_))\n",
    "# summarize all scores that were evaluated\n",
    "means = model_grid_search.cv_results_['mean_test_score']\n",
    "stds = model_grid_search.cv_results_['std_test_score']\n",
    "params = model_grid_search.cv_results_['params']\n",
    "for mean, stdev, param in zip(means, stds, params):\n",
    "    print(\"%f (%f) with: %r\" % (mean, stdev, param))"
   ]
  },
  {
   "cell_type": "markdown",
   "id": "43a1d1b4",
   "metadata": {},
   "source": [
    "Selecting the models which performed best\n",
    "\n",
    "- HistGradientBoostingClassifier\n",
    "  0.826417 using {'learning_rate': 0.2, 'max_bins': 100, 'max_leaf_nodes': 4}\n",
    "  \n",
    "- GradientBoostinClassifier\n",
    "  0.823795 using {'learning_rate': 0.01, 'max_depth': 3, 'n_estimators': 500}\n",
    "  \n",
    "- SVM\n",
    "  0.804 (+/-0.034) for {'C': 1000, 'gamma': 0.001, 'kernel': 'rbf'}\n",
    "  \n",
    "- RandomForestClassifier\n",
    "  0.826 (+/-0.076) for {'max_features': 'auto', 'n_estimators': 200}"
   ]
  },
  {
   "cell_type": "code",
   "execution_count": 79,
   "id": "5d203ac0",
   "metadata": {},
   "outputs": [
    {
     "data": {
      "text/plain": [
       "HistGradientBoostingClassifier(learning_rate=0.2, max_bins=100,\n",
       "                               max_leaf_nodes=4, random_state=42)"
      ]
     },
     "execution_count": 79,
     "metadata": {},
     "output_type": "execute_result"
    }
   ],
   "source": [
    "modelHist = HistGradientBoostingClassifier(random_state=42, learning_rate=.2, max_bins=100, max_leaf_nodes=4)\n",
    "modelHist.fit(survival_prepared, survival_labels)"
   ]
  },
  {
   "cell_type": "code",
   "execution_count": 80,
   "id": "573186e3",
   "metadata": {},
   "outputs": [
    {
     "data": {
      "text/plain": [
       "GradientBoostingClassifier(learning_rate=0.01, n_estimators=500)"
      ]
     },
     "execution_count": 80,
     "metadata": {},
     "output_type": "execute_result"
    }
   ],
   "source": [
    "#Stacking classifier - modelHist, modelgbc, modelsvc\n",
    "modelgbc = GradientBoostingClassifier(learning_rate=.01, max_depth=3, n_estimators=500)\n",
    "modelgbc.fit(survival_prepared, survival_labels)"
   ]
  },
  {
   "cell_type": "code",
   "execution_count": 81,
   "id": "bb7f89eb",
   "metadata": {},
   "outputs": [
    {
     "data": {
      "text/plain": [
       "SVC(C=1000, gamma=0.001)"
      ]
     },
     "execution_count": 81,
     "metadata": {},
     "output_type": "execute_result"
    }
   ],
   "source": [
    "modelsvc = SVC(C=1000,gamma=.001, kernel='rbf')\n",
    "modelsvc.fit(survival_prepared, survival_labels)"
   ]
  },
  {
   "cell_type": "code",
   "execution_count": 90,
   "id": "c714e004",
   "metadata": {},
   "outputs": [],
   "source": [
    "#XGBoost\n",
    "import xgboost as xgb\n",
    "from sklearn.metrics import mean_squared_error\n",
    "\n",
    "data_dmatrix = xgb.DMatrix(data=survival_prepared,label=survival_labels)"
   ]
  },
  {
   "cell_type": "code",
   "execution_count": 100,
   "id": "168d9c87",
   "metadata": {},
   "outputs": [],
   "source": [
    "xg_reg = xgb.XGBClassifier(objective ='reg:logistic', colsample_bytree = 0.3, learning_rate = 0.1,\n",
    "                max_depth = 5, alpha = 10, n_estimators = 10, use_label_encoder=False)\n",
    "\n",
    "params = {\"objective\":\"reg:logistic\",'colsample_bytree': 0.3,'learning_rate': 0.1,\n",
    "                'max_depth': 5, 'alpha': 10}\n",
    "\n",
    "cv_results = xgb.cv(dtrain=data_dmatrix, params=params, nfold=3,\n",
    "                    num_boost_round=50,early_stopping_rounds=10,metrics=\"logloss\", as_pandas=True, seed=123)"
   ]
  },
  {
   "cell_type": "code",
   "execution_count": 101,
   "id": "80798e2b",
   "metadata": {},
   "outputs": [
    {
     "data": {
      "text/html": [
       "<div>\n",
       "<style scoped>\n",
       "    .dataframe tbody tr th:only-of-type {\n",
       "        vertical-align: middle;\n",
       "    }\n",
       "\n",
       "    .dataframe tbody tr th {\n",
       "        vertical-align: top;\n",
       "    }\n",
       "\n",
       "    .dataframe thead th {\n",
       "        text-align: right;\n",
       "    }\n",
       "</style>\n",
       "<table border=\"1\" class=\"dataframe\">\n",
       "  <thead>\n",
       "    <tr style=\"text-align: right;\">\n",
       "      <th></th>\n",
       "      <th>train-logloss-mean</th>\n",
       "      <th>train-logloss-std</th>\n",
       "      <th>test-logloss-mean</th>\n",
       "      <th>test-logloss-std</th>\n",
       "    </tr>\n",
       "  </thead>\n",
       "  <tbody>\n",
       "    <tr>\n",
       "      <th>0</th>\n",
       "      <td>0.679525</td>\n",
       "      <td>0.000987</td>\n",
       "      <td>0.680052</td>\n",
       "      <td>0.000392</td>\n",
       "    </tr>\n",
       "    <tr>\n",
       "      <th>1</th>\n",
       "      <td>0.670014</td>\n",
       "      <td>0.003792</td>\n",
       "      <td>0.671192</td>\n",
       "      <td>0.002243</td>\n",
       "    </tr>\n",
       "    <tr>\n",
       "      <th>2</th>\n",
       "      <td>0.647886</td>\n",
       "      <td>0.011495</td>\n",
       "      <td>0.650539</td>\n",
       "      <td>0.009604</td>\n",
       "    </tr>\n",
       "    <tr>\n",
       "      <th>3</th>\n",
       "      <td>0.629531</td>\n",
       "      <td>0.013384</td>\n",
       "      <td>0.632989</td>\n",
       "      <td>0.010707</td>\n",
       "    </tr>\n",
       "    <tr>\n",
       "      <th>4</th>\n",
       "      <td>0.612910</td>\n",
       "      <td>0.006804</td>\n",
       "      <td>0.615893</td>\n",
       "      <td>0.003510</td>\n",
       "    </tr>\n",
       "  </tbody>\n",
       "</table>\n",
       "</div>"
      ],
      "text/plain": [
       "   train-logloss-mean  train-logloss-std  test-logloss-mean  test-logloss-std\n",
       "0            0.679525           0.000987           0.680052          0.000392\n",
       "1            0.670014           0.003792           0.671192          0.002243\n",
       "2            0.647886           0.011495           0.650539          0.009604\n",
       "3            0.629531           0.013384           0.632989          0.010707\n",
       "4            0.612910           0.006804           0.615893          0.003510"
      ]
     },
     "execution_count": 101,
     "metadata": {},
     "output_type": "execute_result"
    }
   ],
   "source": [
    "cv_results.head()"
   ]
  },
  {
   "cell_type": "code",
   "execution_count": 103,
   "id": "57518b56",
   "metadata": {},
   "outputs": [],
   "source": [
    "def report_best_scores(results, n_top=3):\n",
    "    for i in range(1, n_top + 1):\n",
    "        candidates = np.flatnonzero(results['rank_test_score'] == i)\n",
    "        for candidate in candidates:\n",
    "            print(\"Model with rank: {0}\".format(i))\n",
    "            print(\"Mean validation score: {0:.3f} (std: {1:.3f})\".format(\n",
    "                  results['mean_test_score'][candidate],\n",
    "                  results['std_test_score'][candidate]))\n",
    "            print(\"Parameters: {0}\".format(results['params'][candidate]))\n",
    "            print(\"\")"
   ]
  },
  {
   "cell_type": "code",
   "execution_count": 107,
   "id": "c20e07fd",
   "metadata": {},
   "outputs": [
    {
     "name": "stderr",
     "output_type": "stream",
     "text": [
      "/home/viren/.local/lib/python3.8/site-packages/sklearn/model_selection/_search.py:285: UserWarning: The total space of parameters 96 is smaller than n_iter=100. Running 96 iterations. For exhaustive searches, use GridSearchCV.\n",
      "  warnings.warn(\n"
     ]
    },
    {
     "name": "stdout",
     "output_type": "stream",
     "text": [
      "Fitting 3 folds for each of 96 candidates, totalling 288 fits\n",
      "Model with rank: 1\n",
      "Mean validation score: 0.789 (std: 0.014)\n",
      "Parameters: {'n_estimators': 120, 'max_depth': 2, 'learning_rate': 0.05, 'gamma': 0.25}\n",
      "\n"
     ]
    }
   ],
   "source": [
    "from scipy.stats import uniform, randint\n",
    "from sklearn.model_selection import KFold, RandomizedSearchCV\n",
    "params = {\n",
    "#    \"colsample_bytree\": uniform(0.7, 0.3),\n",
    "    \"gamma\": (.1, .25),\n",
    "    \"learning_rate\": (.05, .1, .2), # default 0.1 \n",
    "    \"max_depth\": (2,3,4,5), # default 3\n",
    "    \"n_estimators\": (100,110,120,130), # default 100\n",
    "#    \"subsample\": uniform(0.6, 0.4)\n",
    "}\n",
    "\n",
    "xgb_search = RandomizedSearchCV(xg_reg, param_distributions=params, random_state=42, n_iter=100, cv=3, verbose=1, n_jobs=1, return_train_score=True)\n",
    "\n",
    "xgb_search.fit(survival_prepared, survival_labels)\n",
    "\n",
    "report_best_scores(xgb_search.cv_results_, 1)"
   ]
  },
  {
   "cell_type": "code",
   "execution_count": 113,
   "id": "68a80438",
   "metadata": {},
   "outputs": [
    {
     "data": {
      "text/plain": [
       "XGBClassifier(base_score=0.5, booster='gbtree', colsample_bylevel=1,\n",
       "              colsample_bynode=1, colsample_bytree=1, enable_categorical=False,\n",
       "              gamma=0.25, gpu_id=-1, importance_type=None,\n",
       "              interaction_constraints='', learning_rate=0.05, max_delta_step=0,\n",
       "              max_depth=2, min_child_weight=1, missing=nan,\n",
       "              monotone_constraints='()', n_estimators=120, n_jobs=2,\n",
       "              num_parallel_tree=1, objective='reg:logistic', predictor='auto',\n",
       "              random_state=0, reg_alpha=0, reg_lambda=1, scale_pos_weight=1,\n",
       "              subsample=1, tree_method='exact', use_label_encoder=False,\n",
       "              validate_parameters=1, verbosity=None)"
      ]
     },
     "execution_count": 113,
     "metadata": {},
     "output_type": "execute_result"
    }
   ],
   "source": [
    "xgb_model =xgb.XGBClassifier(objective ='reg:logistic', learning_rate = 0.05, gamma = .25,\n",
    "                max_depth = 2, n_estimators = 120, use_label_encoder=False)\n",
    "xgb_model.fit(survival_prepared, survival_labels)"
   ]
  },
  {
   "cell_type": "code",
   "execution_count": null,
   "id": "dc6e9933",
   "metadata": {},
   "outputs": [],
   "source": []
  },
  {
   "cell_type": "code",
   "execution_count": null,
   "id": "93f24d62",
   "metadata": {},
   "outputs": [],
   "source": []
  },
  {
   "cell_type": "code",
   "execution_count": 82,
   "id": "ae1331cd",
   "metadata": {},
   "outputs": [
    {
     "data": {
      "text/html": [
       "<div>\n",
       "<style scoped>\n",
       "    .dataframe tbody tr th:only-of-type {\n",
       "        vertical-align: middle;\n",
       "    }\n",
       "\n",
       "    .dataframe tbody tr th {\n",
       "        vertical-align: top;\n",
       "    }\n",
       "\n",
       "    .dataframe thead th {\n",
       "        text-align: right;\n",
       "    }\n",
       "</style>\n",
       "<table border=\"1\" class=\"dataframe\">\n",
       "  <thead>\n",
       "    <tr style=\"text-align: right;\">\n",
       "      <th></th>\n",
       "      <th>PassengerId</th>\n",
       "      <th>Pclass</th>\n",
       "      <th>Name</th>\n",
       "      <th>Sex</th>\n",
       "      <th>Age</th>\n",
       "      <th>SibSp</th>\n",
       "      <th>Parch</th>\n",
       "      <th>Ticket</th>\n",
       "      <th>Fare</th>\n",
       "      <th>Cabin</th>\n",
       "      <th>Embarked</th>\n",
       "    </tr>\n",
       "  </thead>\n",
       "  <tbody>\n",
       "    <tr>\n",
       "      <th>0</th>\n",
       "      <td>892</td>\n",
       "      <td>3</td>\n",
       "      <td>Kelly, Mr. James</td>\n",
       "      <td>male</td>\n",
       "      <td>34.5</td>\n",
       "      <td>0</td>\n",
       "      <td>0</td>\n",
       "      <td>330911</td>\n",
       "      <td>7.8292</td>\n",
       "      <td>NaN</td>\n",
       "      <td>Q</td>\n",
       "    </tr>\n",
       "    <tr>\n",
       "      <th>1</th>\n",
       "      <td>893</td>\n",
       "      <td>3</td>\n",
       "      <td>Wilkes, Mrs. James (Ellen Needs)</td>\n",
       "      <td>female</td>\n",
       "      <td>47.0</td>\n",
       "      <td>1</td>\n",
       "      <td>0</td>\n",
       "      <td>363272</td>\n",
       "      <td>7.0000</td>\n",
       "      <td>NaN</td>\n",
       "      <td>S</td>\n",
       "    </tr>\n",
       "    <tr>\n",
       "      <th>2</th>\n",
       "      <td>894</td>\n",
       "      <td>2</td>\n",
       "      <td>Myles, Mr. Thomas Francis</td>\n",
       "      <td>male</td>\n",
       "      <td>62.0</td>\n",
       "      <td>0</td>\n",
       "      <td>0</td>\n",
       "      <td>240276</td>\n",
       "      <td>9.6875</td>\n",
       "      <td>NaN</td>\n",
       "      <td>Q</td>\n",
       "    </tr>\n",
       "    <tr>\n",
       "      <th>3</th>\n",
       "      <td>895</td>\n",
       "      <td>3</td>\n",
       "      <td>Wirz, Mr. Albert</td>\n",
       "      <td>male</td>\n",
       "      <td>27.0</td>\n",
       "      <td>0</td>\n",
       "      <td>0</td>\n",
       "      <td>315154</td>\n",
       "      <td>8.6625</td>\n",
       "      <td>NaN</td>\n",
       "      <td>S</td>\n",
       "    </tr>\n",
       "    <tr>\n",
       "      <th>4</th>\n",
       "      <td>896</td>\n",
       "      <td>3</td>\n",
       "      <td>Hirvonen, Mrs. Alexander (Helga E Lindqvist)</td>\n",
       "      <td>female</td>\n",
       "      <td>22.0</td>\n",
       "      <td>1</td>\n",
       "      <td>1</td>\n",
       "      <td>3101298</td>\n",
       "      <td>12.2875</td>\n",
       "      <td>NaN</td>\n",
       "      <td>S</td>\n",
       "    </tr>\n",
       "  </tbody>\n",
       "</table>\n",
       "</div>"
      ],
      "text/plain": [
       "   PassengerId  Pclass                                          Name     Sex  \\\n",
       "0          892       3                              Kelly, Mr. James    male   \n",
       "1          893       3              Wilkes, Mrs. James (Ellen Needs)  female   \n",
       "2          894       2                     Myles, Mr. Thomas Francis    male   \n",
       "3          895       3                              Wirz, Mr. Albert    male   \n",
       "4          896       3  Hirvonen, Mrs. Alexander (Helga E Lindqvist)  female   \n",
       "\n",
       "    Age  SibSp  Parch   Ticket     Fare Cabin Embarked  \n",
       "0  34.5      0      0   330911   7.8292   NaN        Q  \n",
       "1  47.0      1      0   363272   7.0000   NaN        S  \n",
       "2  62.0      0      0   240276   9.6875   NaN        Q  \n",
       "3  27.0      0      0   315154   8.6625   NaN        S  \n",
       "4  22.0      1      1  3101298  12.2875   NaN        S  "
      ]
     },
     "execution_count": 82,
     "metadata": {},
     "output_type": "execute_result"
    }
   ],
   "source": [
    "test_data = load_survival_data('datasets/test.csv')\n",
    "test_data.head()"
   ]
  },
  {
   "cell_type": "code",
   "execution_count": 83,
   "id": "c7e22a55",
   "metadata": {},
   "outputs": [],
   "source": [
    "survival_df_test = test_data.copy()"
   ]
  },
  {
   "cell_type": "code",
   "execution_count": 84,
   "id": "108a1370",
   "metadata": {},
   "outputs": [
    {
     "data": {
      "text/plain": [
       "array([[ 1.73399584,  0.82737724,  0.39488658, ..., -0.49078316,\n",
       "         0.        ,  1.        ],\n",
       "       [ 1.73788372,  0.82737724,  1.35550962, ..., -0.50747884,\n",
       "         1.        ,  0.        ],\n",
       "       [ 1.74177161, -0.36936484,  2.50825727, ..., -0.45336687,\n",
       "         0.        ,  1.        ],\n",
       "       ...,\n",
       "       [ 3.34746731,  0.82737724,  0.70228595, ..., -0.50244517,\n",
       "         0.        ,  1.        ],\n",
       "       [ 3.35135519,  0.82737724, -0.1046374 , ..., -0.48633742,\n",
       "         0.        ,  1.        ],\n",
       "       [ 3.35524307,  0.82737724, -0.1046374 , ..., -0.19824428,\n",
       "         0.        ,  1.        ]])"
      ]
     },
     "execution_count": 84,
     "metadata": {},
     "output_type": "execute_result"
    }
   ],
   "source": [
    "survival_test_prepared = full_pipeline.transform(survival_df_test)\n",
    "\n",
    "survival_test_prepared"
   ]
  },
  {
   "cell_type": "code",
   "execution_count": 85,
   "id": "64dda332",
   "metadata": {},
   "outputs": [
    {
     "data": {
      "text/plain": [
       "(418, 8)"
      ]
     },
     "execution_count": 85,
     "metadata": {},
     "output_type": "execute_result"
    }
   ],
   "source": [
    "survival_test_prepared.shape"
   ]
  },
  {
   "cell_type": "code",
   "execution_count": null,
   "id": "77d3786a",
   "metadata": {},
   "outputs": [],
   "source": []
  },
  {
   "cell_type": "code",
   "execution_count": 86,
   "id": "adc3127f",
   "metadata": {
    "scrolled": true
   },
   "outputs": [
    {
     "data": {
      "text/plain": [
       "array([0, 0, 0, 0, 0, 0, 0, 0, 1, 0, 0, 0, 1, 0, 1, 1, 0, 0, 0, 0, 1, 0,\n",
       "       1, 1, 1, 0, 1, 0, 0, 0, 0, 0, 0, 0, 1, 0, 0, 0, 0, 0, 0, 0, 0, 1,\n",
       "       1, 0, 0, 0, 1, 0, 0, 0, 1, 1, 0, 0, 0, 0, 0, 1, 0, 0, 0, 1, 0, 1,\n",
       "       1, 0, 0, 1, 1, 0, 0, 0, 1, 0, 0, 1, 0, 1, 1, 0, 0, 0, 0, 0, 0, 0,\n",
       "       1, 1, 0, 0, 1, 0, 0, 0, 1, 0, 1, 0, 1, 0, 0, 0, 0, 0, 0, 0, 0, 0,\n",
       "       0, 0, 1, 1, 1, 0, 0, 1, 1, 1, 1, 0, 1, 0, 0, 0, 0, 0, 0, 0, 0, 0,\n",
       "       0, 0, 0, 0, 0, 0, 0, 0, 0, 1, 0, 0, 0, 0, 0, 0, 0, 0, 1, 0, 0, 0,\n",
       "       0, 0, 1, 0, 0, 0, 1, 1, 1, 0, 0, 0, 0, 0, 1, 0, 0, 0, 0, 0, 0, 1,\n",
       "       1, 1, 1, 1, 0, 0, 1, 0, 1, 0, 1, 0, 0, 0, 0, 0, 0, 0, 1, 0, 1, 1,\n",
       "       0, 0, 0, 1, 0, 1, 0, 0, 0, 0, 1, 0, 0, 0, 0, 1, 0, 0, 0, 0, 1, 0,\n",
       "       1, 0, 1, 0, 1, 0, 0, 1, 0, 0, 0, 1, 0, 0, 0, 0, 0, 0, 1, 1, 1, 1,\n",
       "       0, 0, 0, 0, 1, 0, 1, 0, 1, 0, 0, 0, 0, 0, 0, 0, 1, 0, 0, 0, 1, 1,\n",
       "       0, 0, 0, 0, 0, 0, 0, 0, 1, 0, 0, 1, 0, 0, 0, 0, 0, 1, 1, 0, 1, 0,\n",
       "       0, 0, 0, 0, 0, 0, 0, 0, 0, 0, 1, 0, 0, 0, 0, 0, 0, 0, 1, 1, 0, 1,\n",
       "       0, 0, 0, 0, 0, 0, 1, 1, 0, 0, 0, 0, 0, 0, 0, 1, 1, 0, 1, 0, 0, 0,\n",
       "       1, 0, 0, 0, 0, 0, 0, 0, 0, 0, 0, 0, 0, 1, 0, 1, 0, 0, 0, 1, 1, 0,\n",
       "       0, 0, 1, 0, 1, 0, 0, 0, 0, 1, 1, 0, 1, 0, 0, 0, 1, 0, 0, 1, 0, 0,\n",
       "       1, 1, 0, 0, 0, 0, 0, 0, 0, 0, 0, 1, 0, 0, 0, 0, 1, 1, 0, 0, 0, 1,\n",
       "       0, 1, 0, 0, 1, 0, 1, 0, 0, 0, 0, 0, 0, 1, 1, 1, 0, 0, 1, 0, 0, 0])"
      ]
     },
     "execution_count": 86,
     "metadata": {},
     "output_type": "execute_result"
    }
   ],
   "source": [
    "results = modelHist.predict(survival_test_prepared)\n",
    "results"
   ]
  },
  {
   "cell_type": "code",
   "execution_count": null,
   "id": "16d7b854",
   "metadata": {},
   "outputs": [],
   "source": []
  },
  {
   "cell_type": "code",
   "execution_count": 115,
   "id": "2eba6e7f",
   "metadata": {},
   "outputs": [
    {
     "data": {
      "text/plain": [
       "array([0, 0, 0, 0, 0, 0, 1, 0, 1, 0, 0, 0, 1, 0, 1, 1, 0, 0, 0, 0, 1, 0,\n",
       "       1, 0, 1, 0, 1, 0, 0, 0, 0, 0, 1, 0, 1, 0, 0, 0, 0, 0, 0, 0, 0, 1,\n",
       "       1, 0, 0, 0, 1, 0, 1, 0, 1, 1, 0, 0, 0, 0, 0, 1, 0, 0, 0, 1, 0, 1,\n",
       "       1, 0, 0, 1, 1, 0, 0, 0, 1, 0, 0, 1, 0, 1, 1, 0, 0, 0, 0, 0, 1, 0,\n",
       "       1, 1, 0, 0, 1, 0, 0, 0, 1, 0, 1, 0, 1, 0, 0, 0, 0, 0, 0, 0, 0, 0,\n",
       "       0, 1, 1, 1, 1, 0, 0, 1, 0, 1, 1, 0, 1, 0, 0, 0, 0, 0, 0, 0, 0, 0,\n",
       "       0, 0, 0, 0, 0, 0, 0, 0, 0, 1, 0, 0, 0, 0, 0, 0, 0, 0, 1, 0, 0, 0,\n",
       "       0, 0, 1, 1, 0, 0, 1, 1, 1, 0, 0, 0, 0, 0, 1, 0, 0, 0, 0, 0, 0, 1,\n",
       "       1, 1, 1, 1, 0, 0, 1, 0, 1, 0, 1, 0, 0, 0, 0, 0, 0, 0, 1, 0, 1, 1,\n",
       "       0, 0, 0, 1, 0, 1, 0, 0, 1, 0, 1, 0, 0, 0, 0, 1, 0, 0, 1, 0, 1, 0,\n",
       "       1, 0, 1, 0, 1, 0, 0, 1, 0, 0, 0, 1, 0, 0, 0, 0, 0, 0, 1, 1, 1, 1,\n",
       "       0, 0, 0, 0, 1, 0, 1, 0, 1, 0, 0, 0, 0, 0, 0, 0, 1, 0, 0, 0, 1, 1,\n",
       "       0, 0, 0, 0, 0, 0, 0, 0, 1, 0, 0, 1, 0, 0, 0, 0, 0, 1, 1, 1, 1, 0,\n",
       "       0, 0, 0, 0, 0, 0, 0, 0, 0, 0, 1, 0, 0, 0, 0, 0, 0, 0, 1, 1, 0, 1,\n",
       "       0, 0, 0, 0, 0, 0, 1, 1, 0, 0, 0, 0, 0, 0, 0, 0, 1, 0, 1, 0, 0, 0,\n",
       "       1, 0, 0, 0, 0, 0, 0, 0, 0, 0, 0, 0, 0, 1, 0, 1, 0, 0, 0, 1, 1, 0,\n",
       "       0, 0, 1, 0, 1, 0, 0, 0, 0, 1, 1, 0, 1, 0, 0, 0, 1, 0, 0, 1, 0, 0,\n",
       "       1, 1, 0, 0, 0, 0, 0, 0, 0, 0, 0, 1, 0, 0, 0, 0, 0, 1, 0, 0, 0, 1,\n",
       "       0, 1, 0, 0, 1, 0, 1, 0, 0, 0, 0, 0, 1, 1, 1, 1, 1, 0, 1, 0, 0, 0])"
      ]
     },
     "execution_count": 115,
     "metadata": {},
     "output_type": "execute_result"
    }
   ],
   "source": [
    "results_xgb = xgb_model.predict(survival_test_prepared)\n",
    "write_results('datasets/results_xgb.csv', survival_test_prepared.shape[0])\n",
    "results_xgb"
   ]
  },
  {
   "cell_type": "markdown",
   "id": "a9d14f3e",
   "metadata": {},
   "source": [
    "Write results to file"
   ]
  },
  {
   "cell_type": "code",
   "execution_count": 87,
   "id": "ed9d6038",
   "metadata": {},
   "outputs": [],
   "source": [
    "def write_results(filepath, numrows):\n",
    "    fresults = open(filepath, \"x\")\n",
    "    passengers = survival_df_test['PassengerId']\n",
    "    fresults.write('PassengerId,Survived\\n')\n",
    "    for i in np.arange(numrows):\n",
    "        fresults.write(str(passengers[i]) + ',' + str(results[i]) + '\\n')"
   ]
  },
  {
   "cell_type": "code",
   "execution_count": 88,
   "id": "c2fab05b",
   "metadata": {},
   "outputs": [
    {
     "ename": "FileExistsError",
     "evalue": "[Errno 17] File exists: 'datasets/results.csv'",
     "output_type": "error",
     "traceback": [
      "\u001b[0;31m---------------------------------------------------------------------------\u001b[0m",
      "\u001b[0;31mFileExistsError\u001b[0m                           Traceback (most recent call last)",
      "\u001b[0;32m<ipython-input-88-931374e56073>\u001b[0m in \u001b[0;36m<module>\u001b[0;34m\u001b[0m\n\u001b[0;32m----> 1\u001b[0;31m \u001b[0mwrite_results\u001b[0m\u001b[0;34m(\u001b[0m\u001b[0;34m'datasets/results.csv'\u001b[0m\u001b[0;34m,\u001b[0m \u001b[0msurvival_test_prepared\u001b[0m\u001b[0;34m.\u001b[0m\u001b[0mshape\u001b[0m\u001b[0;34m[\u001b[0m\u001b[0;36m0\u001b[0m\u001b[0;34m]\u001b[0m\u001b[0;34m)\u001b[0m\u001b[0;34m\u001b[0m\u001b[0;34m\u001b[0m\u001b[0m\n\u001b[0m",
      "\u001b[0;32m<ipython-input-87-41d249b4d4f3>\u001b[0m in \u001b[0;36mwrite_results\u001b[0;34m(filepath, numrows)\u001b[0m\n\u001b[1;32m      1\u001b[0m \u001b[0;32mdef\u001b[0m \u001b[0mwrite_results\u001b[0m\u001b[0;34m(\u001b[0m\u001b[0mfilepath\u001b[0m\u001b[0;34m,\u001b[0m \u001b[0mnumrows\u001b[0m\u001b[0;34m)\u001b[0m\u001b[0;34m:\u001b[0m\u001b[0;34m\u001b[0m\u001b[0;34m\u001b[0m\u001b[0m\n\u001b[0;32m----> 2\u001b[0;31m     \u001b[0mfresults\u001b[0m \u001b[0;34m=\u001b[0m \u001b[0mopen\u001b[0m\u001b[0;34m(\u001b[0m\u001b[0mfilepath\u001b[0m\u001b[0;34m,\u001b[0m \u001b[0;34m\"x\"\u001b[0m\u001b[0;34m)\u001b[0m\u001b[0;34m\u001b[0m\u001b[0;34m\u001b[0m\u001b[0m\n\u001b[0m\u001b[1;32m      3\u001b[0m     \u001b[0mpassengers\u001b[0m \u001b[0;34m=\u001b[0m \u001b[0msurvival_df_test\u001b[0m\u001b[0;34m[\u001b[0m\u001b[0;34m'PassengerId'\u001b[0m\u001b[0;34m]\u001b[0m\u001b[0;34m\u001b[0m\u001b[0;34m\u001b[0m\u001b[0m\n\u001b[1;32m      4\u001b[0m     \u001b[0mfresults\u001b[0m\u001b[0;34m.\u001b[0m\u001b[0mwrite\u001b[0m\u001b[0;34m(\u001b[0m\u001b[0;34m'PassengerId,Survived\\n'\u001b[0m\u001b[0;34m)\u001b[0m\u001b[0;34m\u001b[0m\u001b[0;34m\u001b[0m\u001b[0m\n\u001b[1;32m      5\u001b[0m     \u001b[0;32mfor\u001b[0m \u001b[0mi\u001b[0m \u001b[0;32min\u001b[0m \u001b[0mnp\u001b[0m\u001b[0;34m.\u001b[0m\u001b[0marange\u001b[0m\u001b[0;34m(\u001b[0m\u001b[0mnumrows\u001b[0m\u001b[0;34m)\u001b[0m\u001b[0;34m:\u001b[0m\u001b[0;34m\u001b[0m\u001b[0;34m\u001b[0m\u001b[0m\n",
      "\u001b[0;31mFileExistsError\u001b[0m: [Errno 17] File exists: 'datasets/results.csv'"
     ]
    }
   ],
   "source": [
    "write_results('datasets/results.csv', survival_test_prepared.shape[0])"
   ]
  },
  {
   "cell_type": "code",
   "execution_count": null,
   "id": "df03bf0d",
   "metadata": {},
   "outputs": [],
   "source": []
  },
  {
   "cell_type": "code",
   "execution_count": null,
   "id": "d9ac2296",
   "metadata": {},
   "outputs": [],
   "source": []
  }
 ],
 "metadata": {
  "kernelspec": {
   "display_name": "Python 3",
   "language": "python",
   "name": "python3"
  },
  "language_info": {
   "codemirror_mode": {
    "name": "ipython",
    "version": 3
   },
   "file_extension": ".py",
   "mimetype": "text/x-python",
   "name": "python",
   "nbconvert_exporter": "python",
   "pygments_lexer": "ipython3",
   "version": "3.8.10"
  }
 },
 "nbformat": 4,
 "nbformat_minor": 5
}
